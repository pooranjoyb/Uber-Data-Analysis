{
 "cells": [
  {
   "cell_type": "markdown",
   "id": "eafefe09",
   "metadata": {
    "papermill": {
     "duration": 0.010287,
     "end_time": "2023-06-27T17:56:46.563015",
     "exception": false,
     "start_time": "2023-06-27T17:56:46.552728",
     "status": "completed"
    },
    "tags": []
   },
   "source": [
    "# Uber Drives Data Analysis\n",
    "\n",
    "Welcome to my Python Notebook focused on Uber Data Analysis. In this notebook, I'll explore techniques and tools to gain insights from Uber Drives Dataset, which will enable us to make informed decisions and drive business growth.\n",
    "\n",
    "## Introduction\n",
    "\n",
    "Uber, a popular ride-sharing platform, generates vast amounts of data every day. This data contains valuable information about ride requests, trip durations, pickup and drop-off locations, driver-partner details, and more. By analyzing this data, we can extract meaningful insights to optimize operations, improve customer experiences, and make data-driven decisions.\n",
    "\n",
    "In this notebook, we will cover essential steps and techniques involved in Uber Data Analysis, such as  \n",
    "- **Data Preparation**\n",
    "- **Exploratory data analysis (EDA),**\n",
    "- **Visualization**\n",
    "\n",
    "We will utilize popular Python libraries, including pandas, numpy, matplotlib & seaborn to perform our analysis efficiently and effectively.\n",
    "\n",
    "Throughout this notebook, we encourage you to experiment, modify the code, and adapt it to your specific dataset and analysis goals. Let's dive into the exciting world of Uber Data analysis and unlock valuable insights from our data!"
   ]
  },
  {
   "cell_type": "code",
   "execution_count": 1,
   "id": "f561e446",
   "metadata": {
    "execution": {
     "iopub.execute_input": "2023-06-27T17:56:46.585106Z",
     "iopub.status.busy": "2023-06-27T17:56:46.584789Z",
     "iopub.status.idle": "2023-06-27T17:56:47.829239Z",
     "shell.execute_reply": "2023-06-27T17:56:47.827798Z"
    },
    "papermill": {
     "duration": 1.258821,
     "end_time": "2023-06-27T17:56:47.831889",
     "exception": false,
     "start_time": "2023-06-27T17:56:46.573068",
     "status": "completed"
    },
    "tags": []
   },
   "outputs": [],
   "source": [
    "# Library imports\n",
    "\n",
    "import numpy as np\n",
    "import pandas as pd\n",
    "import seaborn as sns\n",
    "import matplotlib.pyplot as plt"
   ]
  },
  {
   "cell_type": "code",
   "execution_count": 2,
   "id": "0babfa1f",
   "metadata": {
    "execution": {
     "iopub.execute_input": "2023-06-27T17:56:47.853059Z",
     "iopub.status.busy": "2023-06-27T17:56:47.852309Z",
     "iopub.status.idle": "2023-06-27T17:56:47.908204Z",
     "shell.execute_reply": "2023-06-27T17:56:47.907359Z"
    },
    "papermill": {
     "duration": 0.068288,
     "end_time": "2023-06-27T17:56:47.910162",
     "exception": false,
     "start_time": "2023-06-27T17:56:47.841874",
     "status": "completed"
    },
    "tags": []
   },
   "outputs": [
    {
     "data": {
      "text/html": [
       "<div>\n",
       "<style scoped>\n",
       "    .dataframe tbody tr th:only-of-type {\n",
       "        vertical-align: middle;\n",
       "    }\n",
       "\n",
       "    .dataframe tbody tr th {\n",
       "        vertical-align: top;\n",
       "    }\n",
       "\n",
       "    .dataframe thead th {\n",
       "        text-align: right;\n",
       "    }\n",
       "</style>\n",
       "<table border=\"1\" class=\"dataframe\">\n",
       "  <thead>\n",
       "    <tr style=\"text-align: right;\">\n",
       "      <th></th>\n",
       "      <th>START_DATE*</th>\n",
       "      <th>END_DATE*</th>\n",
       "      <th>CATEGORY*</th>\n",
       "      <th>START*</th>\n",
       "      <th>STOP*</th>\n",
       "      <th>MILES*</th>\n",
       "      <th>PURPOSE*</th>\n",
       "    </tr>\n",
       "  </thead>\n",
       "  <tbody>\n",
       "    <tr>\n",
       "      <th>0</th>\n",
       "      <td>1/1/2016 21:11</td>\n",
       "      <td>1/1/2016 21:17</td>\n",
       "      <td>Business</td>\n",
       "      <td>Fort Pierce</td>\n",
       "      <td>Fort Pierce</td>\n",
       "      <td>5.1</td>\n",
       "      <td>Meal/Entertain</td>\n",
       "    </tr>\n",
       "    <tr>\n",
       "      <th>1</th>\n",
       "      <td>1/2/2016 1:25</td>\n",
       "      <td>1/2/2016 1:37</td>\n",
       "      <td>Business</td>\n",
       "      <td>Fort Pierce</td>\n",
       "      <td>Fort Pierce</td>\n",
       "      <td>5.0</td>\n",
       "      <td>NaN</td>\n",
       "    </tr>\n",
       "    <tr>\n",
       "      <th>2</th>\n",
       "      <td>1/2/2016 20:25</td>\n",
       "      <td>1/2/2016 20:38</td>\n",
       "      <td>Business</td>\n",
       "      <td>Fort Pierce</td>\n",
       "      <td>Fort Pierce</td>\n",
       "      <td>4.8</td>\n",
       "      <td>Errand/Supplies</td>\n",
       "    </tr>\n",
       "    <tr>\n",
       "      <th>3</th>\n",
       "      <td>1/5/2016 17:31</td>\n",
       "      <td>1/5/2016 17:45</td>\n",
       "      <td>Business</td>\n",
       "      <td>Fort Pierce</td>\n",
       "      <td>Fort Pierce</td>\n",
       "      <td>4.7</td>\n",
       "      <td>Meeting</td>\n",
       "    </tr>\n",
       "    <tr>\n",
       "      <th>4</th>\n",
       "      <td>1/6/2016 14:42</td>\n",
       "      <td>1/6/2016 15:49</td>\n",
       "      <td>Business</td>\n",
       "      <td>Fort Pierce</td>\n",
       "      <td>West Palm Beach</td>\n",
       "      <td>63.7</td>\n",
       "      <td>Customer Visit</td>\n",
       "    </tr>\n",
       "    <tr>\n",
       "      <th>...</th>\n",
       "      <td>...</td>\n",
       "      <td>...</td>\n",
       "      <td>...</td>\n",
       "      <td>...</td>\n",
       "      <td>...</td>\n",
       "      <td>...</td>\n",
       "      <td>...</td>\n",
       "    </tr>\n",
       "    <tr>\n",
       "      <th>1151</th>\n",
       "      <td>12/31/2016 13:24</td>\n",
       "      <td>12/31/2016 13:42</td>\n",
       "      <td>Business</td>\n",
       "      <td>Kar?chi</td>\n",
       "      <td>Unknown Location</td>\n",
       "      <td>3.9</td>\n",
       "      <td>Temporary Site</td>\n",
       "    </tr>\n",
       "    <tr>\n",
       "      <th>1152</th>\n",
       "      <td>12/31/2016 15:03</td>\n",
       "      <td>12/31/2016 15:38</td>\n",
       "      <td>Business</td>\n",
       "      <td>Unknown Location</td>\n",
       "      <td>Unknown Location</td>\n",
       "      <td>16.2</td>\n",
       "      <td>Meeting</td>\n",
       "    </tr>\n",
       "    <tr>\n",
       "      <th>1153</th>\n",
       "      <td>12/31/2016 21:32</td>\n",
       "      <td>12/31/2016 21:50</td>\n",
       "      <td>Business</td>\n",
       "      <td>Katunayake</td>\n",
       "      <td>Gampaha</td>\n",
       "      <td>6.4</td>\n",
       "      <td>Temporary Site</td>\n",
       "    </tr>\n",
       "    <tr>\n",
       "      <th>1154</th>\n",
       "      <td>12/31/2016 22:08</td>\n",
       "      <td>12/31/2016 23:51</td>\n",
       "      <td>Business</td>\n",
       "      <td>Gampaha</td>\n",
       "      <td>Ilukwatta</td>\n",
       "      <td>48.2</td>\n",
       "      <td>Temporary Site</td>\n",
       "    </tr>\n",
       "    <tr>\n",
       "      <th>1155</th>\n",
       "      <td>Totals</td>\n",
       "      <td>NaN</td>\n",
       "      <td>NaN</td>\n",
       "      <td>NaN</td>\n",
       "      <td>NaN</td>\n",
       "      <td>12204.7</td>\n",
       "      <td>NaN</td>\n",
       "    </tr>\n",
       "  </tbody>\n",
       "</table>\n",
       "<p>1156 rows × 7 columns</p>\n",
       "</div>"
      ],
      "text/plain": [
       "           START_DATE*         END_DATE* CATEGORY*            START*  \\\n",
       "0       1/1/2016 21:11    1/1/2016 21:17  Business       Fort Pierce   \n",
       "1        1/2/2016 1:25     1/2/2016 1:37  Business       Fort Pierce   \n",
       "2       1/2/2016 20:25    1/2/2016 20:38  Business       Fort Pierce   \n",
       "3       1/5/2016 17:31    1/5/2016 17:45  Business       Fort Pierce   \n",
       "4       1/6/2016 14:42    1/6/2016 15:49  Business       Fort Pierce   \n",
       "...                ...               ...       ...               ...   \n",
       "1151  12/31/2016 13:24  12/31/2016 13:42  Business           Kar?chi   \n",
       "1152  12/31/2016 15:03  12/31/2016 15:38  Business  Unknown Location   \n",
       "1153  12/31/2016 21:32  12/31/2016 21:50  Business        Katunayake   \n",
       "1154  12/31/2016 22:08  12/31/2016 23:51  Business           Gampaha   \n",
       "1155            Totals               NaN       NaN               NaN   \n",
       "\n",
       "                 STOP*   MILES*         PURPOSE*  \n",
       "0          Fort Pierce      5.1   Meal/Entertain  \n",
       "1          Fort Pierce      5.0              NaN  \n",
       "2          Fort Pierce      4.8  Errand/Supplies  \n",
       "3          Fort Pierce      4.7          Meeting  \n",
       "4      West Palm Beach     63.7   Customer Visit  \n",
       "...                ...      ...              ...  \n",
       "1151  Unknown Location      3.9   Temporary Site  \n",
       "1152  Unknown Location     16.2          Meeting  \n",
       "1153           Gampaha      6.4   Temporary Site  \n",
       "1154         Ilukwatta     48.2   Temporary Site  \n",
       "1155               NaN  12204.7              NaN  \n",
       "\n",
       "[1156 rows x 7 columns]"
      ]
     },
     "execution_count": 2,
     "metadata": {},
     "output_type": "execute_result"
    }
   ],
   "source": [
    "df = pd.read_csv(\"/kaggle/input/uberdrives/My Uber Drives - 2016.csv\", sep=',')\n",
    "df"
   ]
  },
  {
   "cell_type": "markdown",
   "id": "9f839022",
   "metadata": {
    "papermill": {
     "duration": 0.01007,
     "end_time": "2023-06-27T17:56:47.930518",
     "exception": false,
     "start_time": "2023-06-27T17:56:47.920448",
     "status": "completed"
    },
    "tags": []
   },
   "source": [
    "**From the sneak peek of our dataset, we can see that we have**\n",
    "- Start Date along with Time of Pickup\n",
    "- End Date along with Time of Drop-Off\n",
    "- Start Location\n",
    "- End Location\n",
    "- Category\n",
    "- Miles Travelled\n",
    "- Reason of Transportation"
   ]
  },
  {
   "cell_type": "code",
   "execution_count": 3,
   "id": "4c856ced",
   "metadata": {
    "execution": {
     "iopub.execute_input": "2023-06-27T17:56:47.951758Z",
     "iopub.status.busy": "2023-06-27T17:56:47.951416Z",
     "iopub.status.idle": "2023-06-27T17:56:47.956710Z",
     "shell.execute_reply": "2023-06-27T17:56:47.956003Z"
    },
    "papermill": {
     "duration": 0.017776,
     "end_time": "2023-06-27T17:56:47.958305",
     "exception": false,
     "start_time": "2023-06-27T17:56:47.940529",
     "status": "completed"
    },
    "tags": []
   },
   "outputs": [],
   "source": [
    "df = df.drop(df.index[-1])"
   ]
  },
  {
   "cell_type": "markdown",
   "id": "25556669",
   "metadata": {
    "papermill": {
     "duration": 0.009798,
     "end_time": "2023-06-27T17:56:47.978277",
     "exception": false,
     "start_time": "2023-06-27T17:56:47.968479",
     "status": "completed"
    },
    "tags": []
   },
   "source": [
    "# Data Preparation\n",
    "Data preparation is the process of preparing raw data so that it is suitable for further processing and analysis. Key steps include collecting, cleaning, and labeling raw data into a form suitable for machine learning (ML) algorithms and then exploring and visualizing the data. "
   ]
  },
  {
   "cell_type": "code",
   "execution_count": 4,
   "id": "93acd696",
   "metadata": {
    "execution": {
     "iopub.execute_input": "2023-06-27T17:56:47.999468Z",
     "iopub.status.busy": "2023-06-27T17:56:47.999164Z",
     "iopub.status.idle": "2023-06-27T17:56:48.019250Z",
     "shell.execute_reply": "2023-06-27T17:56:48.018400Z"
    },
    "papermill": {
     "duration": 0.03303,
     "end_time": "2023-06-27T17:56:48.021208",
     "exception": false,
     "start_time": "2023-06-27T17:56:47.988178",
     "status": "completed"
    },
    "tags": []
   },
   "outputs": [
    {
     "name": "stdout",
     "output_type": "stream",
     "text": [
      "<class 'pandas.core.frame.DataFrame'>\n",
      "RangeIndex: 1155 entries, 0 to 1154\n",
      "Data columns (total 7 columns):\n",
      " #   Column       Non-Null Count  Dtype  \n",
      "---  ------       --------------  -----  \n",
      " 0   START_DATE*  1155 non-null   object \n",
      " 1   END_DATE*    1155 non-null   object \n",
      " 2   CATEGORY*    1155 non-null   object \n",
      " 3   START*       1155 non-null   object \n",
      " 4   STOP*        1155 non-null   object \n",
      " 5   MILES*       1155 non-null   float64\n",
      " 6   PURPOSE*     653 non-null    object \n",
      "dtypes: float64(1), object(6)\n",
      "memory usage: 63.3+ KB\n"
     ]
    }
   ],
   "source": [
    "df.info()"
   ]
  },
  {
   "cell_type": "code",
   "execution_count": 5,
   "id": "673cf0ed",
   "metadata": {
    "execution": {
     "iopub.execute_input": "2023-06-27T17:56:48.042854Z",
     "iopub.status.busy": "2023-06-27T17:56:48.042497Z",
     "iopub.status.idle": "2023-06-27T17:56:48.062088Z",
     "shell.execute_reply": "2023-06-27T17:56:48.060959Z"
    },
    "papermill": {
     "duration": 0.032236,
     "end_time": "2023-06-27T17:56:48.063783",
     "exception": false,
     "start_time": "2023-06-27T17:56:48.031547",
     "status": "completed"
    },
    "tags": []
   },
   "outputs": [
    {
     "data": {
      "text/html": [
       "<div>\n",
       "<style scoped>\n",
       "    .dataframe tbody tr th:only-of-type {\n",
       "        vertical-align: middle;\n",
       "    }\n",
       "\n",
       "    .dataframe tbody tr th {\n",
       "        vertical-align: top;\n",
       "    }\n",
       "\n",
       "    .dataframe thead th {\n",
       "        text-align: right;\n",
       "    }\n",
       "</style>\n",
       "<table border=\"1\" class=\"dataframe\">\n",
       "  <thead>\n",
       "    <tr style=\"text-align: right;\">\n",
       "      <th></th>\n",
       "      <th>START_DATE*</th>\n",
       "      <th>END_DATE*</th>\n",
       "      <th>CATEGORY*</th>\n",
       "      <th>START*</th>\n",
       "      <th>STOP*</th>\n",
       "      <th>MILES*</th>\n",
       "      <th>PURPOSE*</th>\n",
       "      <th>Start_Date</th>\n",
       "      <th>Start_Time</th>\n",
       "      <th>End_Date</th>\n",
       "      <th>End_Time</th>\n",
       "    </tr>\n",
       "  </thead>\n",
       "  <tbody>\n",
       "    <tr>\n",
       "      <th>0</th>\n",
       "      <td>1/1/2016 21:11</td>\n",
       "      <td>1/1/2016 21:17</td>\n",
       "      <td>Business</td>\n",
       "      <td>Fort Pierce</td>\n",
       "      <td>Fort Pierce</td>\n",
       "      <td>5.1</td>\n",
       "      <td>Meal/Entertain</td>\n",
       "      <td>1/1/2016</td>\n",
       "      <td>21:11</td>\n",
       "      <td>1/1/2016</td>\n",
       "      <td>21:17</td>\n",
       "    </tr>\n",
       "    <tr>\n",
       "      <th>1</th>\n",
       "      <td>1/2/2016 1:25</td>\n",
       "      <td>1/2/2016 1:37</td>\n",
       "      <td>Business</td>\n",
       "      <td>Fort Pierce</td>\n",
       "      <td>Fort Pierce</td>\n",
       "      <td>5.0</td>\n",
       "      <td>NaN</td>\n",
       "      <td>1/2/2016</td>\n",
       "      <td>1:25</td>\n",
       "      <td>1/2/2016</td>\n",
       "      <td>1:37</td>\n",
       "    </tr>\n",
       "    <tr>\n",
       "      <th>2</th>\n",
       "      <td>1/2/2016 20:25</td>\n",
       "      <td>1/2/2016 20:38</td>\n",
       "      <td>Business</td>\n",
       "      <td>Fort Pierce</td>\n",
       "      <td>Fort Pierce</td>\n",
       "      <td>4.8</td>\n",
       "      <td>Errand/Supplies</td>\n",
       "      <td>1/2/2016</td>\n",
       "      <td>20:25</td>\n",
       "      <td>1/2/2016</td>\n",
       "      <td>20:38</td>\n",
       "    </tr>\n",
       "    <tr>\n",
       "      <th>3</th>\n",
       "      <td>1/5/2016 17:31</td>\n",
       "      <td>1/5/2016 17:45</td>\n",
       "      <td>Business</td>\n",
       "      <td>Fort Pierce</td>\n",
       "      <td>Fort Pierce</td>\n",
       "      <td>4.7</td>\n",
       "      <td>Meeting</td>\n",
       "      <td>1/5/2016</td>\n",
       "      <td>17:31</td>\n",
       "      <td>1/5/2016</td>\n",
       "      <td>17:45</td>\n",
       "    </tr>\n",
       "    <tr>\n",
       "      <th>4</th>\n",
       "      <td>1/6/2016 14:42</td>\n",
       "      <td>1/6/2016 15:49</td>\n",
       "      <td>Business</td>\n",
       "      <td>Fort Pierce</td>\n",
       "      <td>West Palm Beach</td>\n",
       "      <td>63.7</td>\n",
       "      <td>Customer Visit</td>\n",
       "      <td>1/6/2016</td>\n",
       "      <td>14:42</td>\n",
       "      <td>1/6/2016</td>\n",
       "      <td>15:49</td>\n",
       "    </tr>\n",
       "  </tbody>\n",
       "</table>\n",
       "</div>"
      ],
      "text/plain": [
       "      START_DATE*       END_DATE* CATEGORY*       START*            STOP*  \\\n",
       "0  1/1/2016 21:11  1/1/2016 21:17  Business  Fort Pierce      Fort Pierce   \n",
       "1   1/2/2016 1:25   1/2/2016 1:37  Business  Fort Pierce      Fort Pierce   \n",
       "2  1/2/2016 20:25  1/2/2016 20:38  Business  Fort Pierce      Fort Pierce   \n",
       "3  1/5/2016 17:31  1/5/2016 17:45  Business  Fort Pierce      Fort Pierce   \n",
       "4  1/6/2016 14:42  1/6/2016 15:49  Business  Fort Pierce  West Palm Beach   \n",
       "\n",
       "   MILES*         PURPOSE* Start_Date Start_Time  End_Date End_Time  \n",
       "0     5.1   Meal/Entertain   1/1/2016      21:11  1/1/2016    21:17  \n",
       "1     5.0              NaN   1/2/2016       1:25  1/2/2016     1:37  \n",
       "2     4.8  Errand/Supplies   1/2/2016      20:25  1/2/2016    20:38  \n",
       "3     4.7          Meeting   1/5/2016      17:31  1/5/2016    17:45  \n",
       "4    63.7   Customer Visit   1/6/2016      14:42  1/6/2016    15:49  "
      ]
     },
     "execution_count": 5,
     "metadata": {},
     "output_type": "execute_result"
    }
   ],
   "source": [
    "df[['Start_Date', 'Start_Time']] = df['START_DATE*'].str.split(' ', n=1, expand=True)\n",
    "df[['End_Date', 'End_Time']] = df['END_DATE*'].str.split(' ', n=1, expand=True)\n",
    "df.head()"
   ]
  },
  {
   "cell_type": "markdown",
   "id": "9890c71a",
   "metadata": {
    "papermill": {
     "duration": 0.009799,
     "end_time": "2023-06-27T17:56:48.084509",
     "exception": false,
     "start_time": "2023-06-27T17:56:48.074710",
     "status": "completed"
    },
    "tags": []
   },
   "source": [
    "**We extract the Start_Date and End_Date with their respective Time for further analysis**."
   ]
  },
  {
   "cell_type": "code",
   "execution_count": 6,
   "id": "dfc57022",
   "metadata": {
    "execution": {
     "iopub.execute_input": "2023-06-27T17:56:48.107009Z",
     "iopub.status.busy": "2023-06-27T17:56:48.106147Z",
     "iopub.status.idle": "2023-06-27T17:56:48.112136Z",
     "shell.execute_reply": "2023-06-27T17:56:48.111160Z"
    },
    "papermill": {
     "duration": 0.018862,
     "end_time": "2023-06-27T17:56:48.113786",
     "exception": false,
     "start_time": "2023-06-27T17:56:48.094924",
     "status": "completed"
    },
    "tags": []
   },
   "outputs": [],
   "source": [
    "df = df.drop(['START_DATE*', 'END_DATE*'], axis=1)"
   ]
  },
  {
   "cell_type": "markdown",
   "id": "bfd9d7e1",
   "metadata": {
    "papermill": {
     "duration": 0.009883,
     "end_time": "2023-06-27T17:56:48.133809",
     "exception": false,
     "start_time": "2023-06-27T17:56:48.123926",
     "status": "completed"
    },
    "tags": []
   },
   "source": [
    "**Previous columns can be dropped as we have more efficient columns.**"
   ]
  },
  {
   "cell_type": "code",
   "execution_count": 7,
   "id": "563dad23",
   "metadata": {
    "execution": {
     "iopub.execute_input": "2023-06-27T17:56:48.155780Z",
     "iopub.status.busy": "2023-06-27T17:56:48.155220Z",
     "iopub.status.idle": "2023-06-27T17:56:48.167160Z",
     "shell.execute_reply": "2023-06-27T17:56:48.166024Z"
    },
    "papermill": {
     "duration": 0.02571,
     "end_time": "2023-06-27T17:56:48.169548",
     "exception": false,
     "start_time": "2023-06-27T17:56:48.143838",
     "status": "completed"
    },
    "tags": []
   },
   "outputs": [
    {
     "data": {
      "text/html": [
       "<div>\n",
       "<style scoped>\n",
       "    .dataframe tbody tr th:only-of-type {\n",
       "        vertical-align: middle;\n",
       "    }\n",
       "\n",
       "    .dataframe tbody tr th {\n",
       "        vertical-align: top;\n",
       "    }\n",
       "\n",
       "    .dataframe thead th {\n",
       "        text-align: right;\n",
       "    }\n",
       "</style>\n",
       "<table border=\"1\" class=\"dataframe\">\n",
       "  <thead>\n",
       "    <tr style=\"text-align: right;\">\n",
       "      <th></th>\n",
       "      <th>CATEGORY*</th>\n",
       "      <th>START*</th>\n",
       "      <th>STOP*</th>\n",
       "      <th>MILES*</th>\n",
       "      <th>PURPOSE*</th>\n",
       "      <th>Start_Date</th>\n",
       "      <th>Start_Time</th>\n",
       "      <th>End_Date</th>\n",
       "      <th>End_Time</th>\n",
       "    </tr>\n",
       "  </thead>\n",
       "  <tbody>\n",
       "    <tr>\n",
       "      <th>0</th>\n",
       "      <td>Business</td>\n",
       "      <td>Fort Pierce</td>\n",
       "      <td>Fort Pierce</td>\n",
       "      <td>5.1</td>\n",
       "      <td>Meal/Entertain</td>\n",
       "      <td>1/1/2016</td>\n",
       "      <td>21:11</td>\n",
       "      <td>1/1/2016</td>\n",
       "      <td>21:17</td>\n",
       "    </tr>\n",
       "    <tr>\n",
       "      <th>1</th>\n",
       "      <td>Business</td>\n",
       "      <td>Fort Pierce</td>\n",
       "      <td>Fort Pierce</td>\n",
       "      <td>5.0</td>\n",
       "      <td>NaN</td>\n",
       "      <td>1/2/2016</td>\n",
       "      <td>1:25</td>\n",
       "      <td>1/2/2016</td>\n",
       "      <td>1:37</td>\n",
       "    </tr>\n",
       "    <tr>\n",
       "      <th>2</th>\n",
       "      <td>Business</td>\n",
       "      <td>Fort Pierce</td>\n",
       "      <td>Fort Pierce</td>\n",
       "      <td>4.8</td>\n",
       "      <td>Errand/Supplies</td>\n",
       "      <td>1/2/2016</td>\n",
       "      <td>20:25</td>\n",
       "      <td>1/2/2016</td>\n",
       "      <td>20:38</td>\n",
       "    </tr>\n",
       "    <tr>\n",
       "      <th>3</th>\n",
       "      <td>Business</td>\n",
       "      <td>Fort Pierce</td>\n",
       "      <td>Fort Pierce</td>\n",
       "      <td>4.7</td>\n",
       "      <td>Meeting</td>\n",
       "      <td>1/5/2016</td>\n",
       "      <td>17:31</td>\n",
       "      <td>1/5/2016</td>\n",
       "      <td>17:45</td>\n",
       "    </tr>\n",
       "    <tr>\n",
       "      <th>4</th>\n",
       "      <td>Business</td>\n",
       "      <td>Fort Pierce</td>\n",
       "      <td>West Palm Beach</td>\n",
       "      <td>63.7</td>\n",
       "      <td>Customer Visit</td>\n",
       "      <td>1/6/2016</td>\n",
       "      <td>14:42</td>\n",
       "      <td>1/6/2016</td>\n",
       "      <td>15:49</td>\n",
       "    </tr>\n",
       "  </tbody>\n",
       "</table>\n",
       "</div>"
      ],
      "text/plain": [
       "  CATEGORY*       START*            STOP*  MILES*         PURPOSE* Start_Date  \\\n",
       "0  Business  Fort Pierce      Fort Pierce     5.1   Meal/Entertain   1/1/2016   \n",
       "1  Business  Fort Pierce      Fort Pierce     5.0              NaN   1/2/2016   \n",
       "2  Business  Fort Pierce      Fort Pierce     4.8  Errand/Supplies   1/2/2016   \n",
       "3  Business  Fort Pierce      Fort Pierce     4.7          Meeting   1/5/2016   \n",
       "4  Business  Fort Pierce  West Palm Beach    63.7   Customer Visit   1/6/2016   \n",
       "\n",
       "  Start_Time  End_Date End_Time  \n",
       "0      21:11  1/1/2016    21:17  \n",
       "1       1:25  1/2/2016     1:37  \n",
       "2      20:25  1/2/2016    20:38  \n",
       "3      17:31  1/5/2016    17:45  \n",
       "4      14:42  1/6/2016    15:49  "
      ]
     },
     "execution_count": 7,
     "metadata": {},
     "output_type": "execute_result"
    }
   ],
   "source": [
    "df.head()"
   ]
  },
  {
   "cell_type": "markdown",
   "id": "80c4eea3",
   "metadata": {
    "papermill": {
     "duration": 0.01066,
     "end_time": "2023-06-27T17:56:48.191055",
     "exception": false,
     "start_time": "2023-06-27T17:56:48.180395",
     "status": "completed"
    },
    "tags": []
   },
   "source": [
    "**Rearranging the Dataset**"
   ]
  },
  {
   "cell_type": "code",
   "execution_count": 8,
   "id": "f6e0460a",
   "metadata": {
    "execution": {
     "iopub.execute_input": "2023-06-27T17:56:48.212994Z",
     "iopub.status.busy": "2023-06-27T17:56:48.212696Z",
     "iopub.status.idle": "2023-06-27T17:56:48.227283Z",
     "shell.execute_reply": "2023-06-27T17:56:48.226101Z"
    },
    "papermill": {
     "duration": 0.02781,
     "end_time": "2023-06-27T17:56:48.229077",
     "exception": false,
     "start_time": "2023-06-27T17:56:48.201267",
     "status": "completed"
    },
    "tags": []
   },
   "outputs": [
    {
     "data": {
      "text/html": [
       "<div>\n",
       "<style scoped>\n",
       "    .dataframe tbody tr th:only-of-type {\n",
       "        vertical-align: middle;\n",
       "    }\n",
       "\n",
       "    .dataframe tbody tr th {\n",
       "        vertical-align: top;\n",
       "    }\n",
       "\n",
       "    .dataframe thead th {\n",
       "        text-align: right;\n",
       "    }\n",
       "</style>\n",
       "<table border=\"1\" class=\"dataframe\">\n",
       "  <thead>\n",
       "    <tr style=\"text-align: right;\">\n",
       "      <th></th>\n",
       "      <th>Start_Date</th>\n",
       "      <th>Start_Time</th>\n",
       "      <th>End_Date</th>\n",
       "      <th>End_Time</th>\n",
       "      <th>CATEGORY*</th>\n",
       "      <th>START*</th>\n",
       "      <th>STOP*</th>\n",
       "      <th>MILES*</th>\n",
       "      <th>PURPOSE*</th>\n",
       "    </tr>\n",
       "  </thead>\n",
       "  <tbody>\n",
       "    <tr>\n",
       "      <th>0</th>\n",
       "      <td>1/1/2016</td>\n",
       "      <td>21:11</td>\n",
       "      <td>1/1/2016</td>\n",
       "      <td>21:17</td>\n",
       "      <td>Business</td>\n",
       "      <td>Fort Pierce</td>\n",
       "      <td>Fort Pierce</td>\n",
       "      <td>5.1</td>\n",
       "      <td>Meal/Entertain</td>\n",
       "    </tr>\n",
       "    <tr>\n",
       "      <th>1</th>\n",
       "      <td>1/2/2016</td>\n",
       "      <td>1:25</td>\n",
       "      <td>1/2/2016</td>\n",
       "      <td>1:37</td>\n",
       "      <td>Business</td>\n",
       "      <td>Fort Pierce</td>\n",
       "      <td>Fort Pierce</td>\n",
       "      <td>5.0</td>\n",
       "      <td>NaN</td>\n",
       "    </tr>\n",
       "    <tr>\n",
       "      <th>2</th>\n",
       "      <td>1/2/2016</td>\n",
       "      <td>20:25</td>\n",
       "      <td>1/2/2016</td>\n",
       "      <td>20:38</td>\n",
       "      <td>Business</td>\n",
       "      <td>Fort Pierce</td>\n",
       "      <td>Fort Pierce</td>\n",
       "      <td>4.8</td>\n",
       "      <td>Errand/Supplies</td>\n",
       "    </tr>\n",
       "    <tr>\n",
       "      <th>3</th>\n",
       "      <td>1/5/2016</td>\n",
       "      <td>17:31</td>\n",
       "      <td>1/5/2016</td>\n",
       "      <td>17:45</td>\n",
       "      <td>Business</td>\n",
       "      <td>Fort Pierce</td>\n",
       "      <td>Fort Pierce</td>\n",
       "      <td>4.7</td>\n",
       "      <td>Meeting</td>\n",
       "    </tr>\n",
       "    <tr>\n",
       "      <th>4</th>\n",
       "      <td>1/6/2016</td>\n",
       "      <td>14:42</td>\n",
       "      <td>1/6/2016</td>\n",
       "      <td>15:49</td>\n",
       "      <td>Business</td>\n",
       "      <td>Fort Pierce</td>\n",
       "      <td>West Palm Beach</td>\n",
       "      <td>63.7</td>\n",
       "      <td>Customer Visit</td>\n",
       "    </tr>\n",
       "  </tbody>\n",
       "</table>\n",
       "</div>"
      ],
      "text/plain": [
       "  Start_Date Start_Time  End_Date End_Time CATEGORY*       START*  \\\n",
       "0   1/1/2016      21:11  1/1/2016    21:17  Business  Fort Pierce   \n",
       "1   1/2/2016       1:25  1/2/2016     1:37  Business  Fort Pierce   \n",
       "2   1/2/2016      20:25  1/2/2016    20:38  Business  Fort Pierce   \n",
       "3   1/5/2016      17:31  1/5/2016    17:45  Business  Fort Pierce   \n",
       "4   1/6/2016      14:42  1/6/2016    15:49  Business  Fort Pierce   \n",
       "\n",
       "             STOP*  MILES*         PURPOSE*  \n",
       "0      Fort Pierce     5.1   Meal/Entertain  \n",
       "1      Fort Pierce     5.0              NaN  \n",
       "2      Fort Pierce     4.8  Errand/Supplies  \n",
       "3      Fort Pierce     4.7          Meeting  \n",
       "4  West Palm Beach    63.7   Customer Visit  "
      ]
     },
     "execution_count": 8,
     "metadata": {},
     "output_type": "execute_result"
    }
   ],
   "source": [
    "df = df.iloc[:,[5, 6, 7, 8, 0, 1, 2, 3, 4]]\n",
    "df.head()"
   ]
  },
  {
   "cell_type": "markdown",
   "id": "b2d2f229",
   "metadata": {
    "papermill": {
     "duration": 0.010293,
     "end_time": "2023-06-27T17:56:48.250117",
     "exception": false,
     "start_time": "2023-06-27T17:56:48.239824",
     "status": "completed"
    },
    "tags": []
   },
   "source": [
    "**Let's Extract the Month from the Dates for more effective Analysis**"
   ]
  },
  {
   "cell_type": "code",
   "execution_count": 9,
   "id": "34005002",
   "metadata": {
    "execution": {
     "iopub.execute_input": "2023-06-27T17:56:48.272759Z",
     "iopub.status.busy": "2023-06-27T17:56:48.272429Z",
     "iopub.status.idle": "2023-06-27T17:56:48.297795Z",
     "shell.execute_reply": "2023-06-27T17:56:48.296798Z"
    },
    "papermill": {
     "duration": 0.039484,
     "end_time": "2023-06-27T17:56:48.300135",
     "exception": false,
     "start_time": "2023-06-27T17:56:48.260651",
     "status": "completed"
    },
    "tags": []
   },
   "outputs": [
    {
     "data": {
      "text/html": [
       "<div>\n",
       "<style scoped>\n",
       "    .dataframe tbody tr th:only-of-type {\n",
       "        vertical-align: middle;\n",
       "    }\n",
       "\n",
       "    .dataframe tbody tr th {\n",
       "        vertical-align: top;\n",
       "    }\n",
       "\n",
       "    .dataframe thead th {\n",
       "        text-align: right;\n",
       "    }\n",
       "</style>\n",
       "<table border=\"1\" class=\"dataframe\">\n",
       "  <thead>\n",
       "    <tr style=\"text-align: right;\">\n",
       "      <th></th>\n",
       "      <th>Start_Date</th>\n",
       "      <th>Start_Time</th>\n",
       "      <th>End_Date</th>\n",
       "      <th>End_Time</th>\n",
       "      <th>CATEGORY*</th>\n",
       "      <th>START*</th>\n",
       "      <th>STOP*</th>\n",
       "      <th>MILES*</th>\n",
       "      <th>PURPOSE*</th>\n",
       "      <th>Month</th>\n",
       "    </tr>\n",
       "  </thead>\n",
       "  <tbody>\n",
       "    <tr>\n",
       "      <th>1000</th>\n",
       "      <td>2016-11-26</td>\n",
       "      <td>17:00</td>\n",
       "      <td>2016-11-26</td>\n",
       "      <td>17:12</td>\n",
       "      <td>Business</td>\n",
       "      <td>Cary</td>\n",
       "      <td>Apex</td>\n",
       "      <td>5.1</td>\n",
       "      <td>Meeting</td>\n",
       "      <td>November</td>\n",
       "    </tr>\n",
       "    <tr>\n",
       "      <th>618</th>\n",
       "      <td>2016-08-01</td>\n",
       "      <td>16:29</td>\n",
       "      <td>2016-08-01</td>\n",
       "      <td>16:59</td>\n",
       "      <td>Business</td>\n",
       "      <td>Cary</td>\n",
       "      <td>Morrisville</td>\n",
       "      <td>9.1</td>\n",
       "      <td>NaN</td>\n",
       "      <td>August</td>\n",
       "    </tr>\n",
       "    <tr>\n",
       "      <th>629</th>\n",
       "      <td>2016-08-05</td>\n",
       "      <td>19:17</td>\n",
       "      <td>2016-08-05</td>\n",
       "      <td>19:27</td>\n",
       "      <td>Business</td>\n",
       "      <td>Columbia Heights</td>\n",
       "      <td>Kalorama Triangle</td>\n",
       "      <td>1.5</td>\n",
       "      <td>NaN</td>\n",
       "      <td>August</td>\n",
       "    </tr>\n",
       "    <tr>\n",
       "      <th>791</th>\n",
       "      <td>2016-10-07</td>\n",
       "      <td>10:56</td>\n",
       "      <td>2016-10-07</td>\n",
       "      <td>10:59</td>\n",
       "      <td>Business</td>\n",
       "      <td>Unknown Location</td>\n",
       "      <td>Lahore</td>\n",
       "      <td>33.2</td>\n",
       "      <td>NaN</td>\n",
       "      <td>October</td>\n",
       "    </tr>\n",
       "    <tr>\n",
       "      <th>34</th>\n",
       "      <td>2016-01-20</td>\n",
       "      <td>10:36</td>\n",
       "      <td>2016-01-20</td>\n",
       "      <td>11:11</td>\n",
       "      <td>Business</td>\n",
       "      <td>Cary</td>\n",
       "      <td>Raleigh</td>\n",
       "      <td>17.1</td>\n",
       "      <td>Meeting</td>\n",
       "      <td>January</td>\n",
       "    </tr>\n",
       "  </tbody>\n",
       "</table>\n",
       "</div>"
      ],
      "text/plain": [
       "     Start_Date Start_Time   End_Date End_Time CATEGORY*            START*  \\\n",
       "1000 2016-11-26      17:00 2016-11-26    17:12  Business              Cary   \n",
       "618  2016-08-01      16:29 2016-08-01    16:59  Business              Cary   \n",
       "629  2016-08-05      19:17 2016-08-05    19:27  Business  Columbia Heights   \n",
       "791  2016-10-07      10:56 2016-10-07    10:59  Business  Unknown Location   \n",
       "34   2016-01-20      10:36 2016-01-20    11:11  Business              Cary   \n",
       "\n",
       "                  STOP*  MILES* PURPOSE*     Month  \n",
       "1000               Apex     5.1  Meeting  November  \n",
       "618         Morrisville     9.1      NaN    August  \n",
       "629   Kalorama Triangle     1.5      NaN    August  \n",
       "791              Lahore    33.2      NaN   October  \n",
       "34              Raleigh    17.1  Meeting   January  "
      ]
     },
     "execution_count": 9,
     "metadata": {},
     "output_type": "execute_result"
    }
   ],
   "source": [
    "df['Start_Date'] = pd.to_datetime(df['Start_Date'], errors='coerce')\n",
    "df['End_Date'] = pd.to_datetime(df['End_Date'], errors='coerce')\n",
    "df['Month'] = df['Start_Date'].dt.strftime('%B')\n",
    "df.sample(5)"
   ]
  },
  {
   "cell_type": "markdown",
   "id": "80e899c2",
   "metadata": {
    "papermill": {
     "duration": 0.010596,
     "end_time": "2023-06-27T17:56:48.321902",
     "exception": false,
     "start_time": "2023-06-27T17:56:48.311306",
     "status": "completed"
    },
    "tags": []
   },
   "source": [
    "**Adding a new feature caleld \"Travelling Time\"**"
   ]
  },
  {
   "cell_type": "code",
   "execution_count": 10,
   "id": "d82bff1a",
   "metadata": {
    "execution": {
     "iopub.execute_input": "2023-06-27T17:56:48.345442Z",
     "iopub.status.busy": "2023-06-27T17:56:48.345146Z",
     "iopub.status.idle": "2023-06-27T17:56:48.369765Z",
     "shell.execute_reply": "2023-06-27T17:56:48.369156Z"
    },
    "papermill": {
     "duration": 0.038632,
     "end_time": "2023-06-27T17:56:48.371408",
     "exception": false,
     "start_time": "2023-06-27T17:56:48.332776",
     "status": "completed"
    },
    "tags": []
   },
   "outputs": [
    {
     "data": {
      "text/html": [
       "<div>\n",
       "<style scoped>\n",
       "    .dataframe tbody tr th:only-of-type {\n",
       "        vertical-align: middle;\n",
       "    }\n",
       "\n",
       "    .dataframe tbody tr th {\n",
       "        vertical-align: top;\n",
       "    }\n",
       "\n",
       "    .dataframe thead th {\n",
       "        text-align: right;\n",
       "    }\n",
       "</style>\n",
       "<table border=\"1\" class=\"dataframe\">\n",
       "  <thead>\n",
       "    <tr style=\"text-align: right;\">\n",
       "      <th></th>\n",
       "      <th>Start_Date</th>\n",
       "      <th>Start_Time</th>\n",
       "      <th>End_Date</th>\n",
       "      <th>End_Time</th>\n",
       "      <th>CATEGORY*</th>\n",
       "      <th>START*</th>\n",
       "      <th>STOP*</th>\n",
       "      <th>MILES*</th>\n",
       "      <th>PURPOSE*</th>\n",
       "      <th>Month</th>\n",
       "      <th>Travelling_Time</th>\n",
       "    </tr>\n",
       "  </thead>\n",
       "  <tbody>\n",
       "    <tr>\n",
       "      <th>945</th>\n",
       "      <td>2016-11-12</td>\n",
       "      <td>13:46</td>\n",
       "      <td>2016-11-12</td>\n",
       "      <td>13:50</td>\n",
       "      <td>Business</td>\n",
       "      <td>Central</td>\n",
       "      <td>West Berkeley</td>\n",
       "      <td>0.6</td>\n",
       "      <td>NaN</td>\n",
       "      <td>November</td>\n",
       "      <td>4.0</td>\n",
       "    </tr>\n",
       "    <tr>\n",
       "      <th>183</th>\n",
       "      <td>2016-03-04</td>\n",
       "      <td>7:47</td>\n",
       "      <td>2016-03-04</td>\n",
       "      <td>8:06</td>\n",
       "      <td>Business</td>\n",
       "      <td>Cary</td>\n",
       "      <td>Durham</td>\n",
       "      <td>9.9</td>\n",
       "      <td>Meeting</td>\n",
       "      <td>March</td>\n",
       "      <td>19.0</td>\n",
       "    </tr>\n",
       "    <tr>\n",
       "      <th>418</th>\n",
       "      <td>2016-06-08</td>\n",
       "      <td>14:31</td>\n",
       "      <td>2016-06-08</td>\n",
       "      <td>14:37</td>\n",
       "      <td>Business</td>\n",
       "      <td>Medical Centre</td>\n",
       "      <td>Tudor City</td>\n",
       "      <td>0.7</td>\n",
       "      <td>Errand/Supplies</td>\n",
       "      <td>June</td>\n",
       "      <td>6.0</td>\n",
       "    </tr>\n",
       "    <tr>\n",
       "      <th>353</th>\n",
       "      <td>2016-05-04</td>\n",
       "      <td>21:30</td>\n",
       "      <td>2016-05-04</td>\n",
       "      <td>21:36</td>\n",
       "      <td>Business</td>\n",
       "      <td>Capitol One</td>\n",
       "      <td>University District</td>\n",
       "      <td>4.5</td>\n",
       "      <td>Meal/Entertain</td>\n",
       "      <td>May</td>\n",
       "      <td>6.0</td>\n",
       "    </tr>\n",
       "    <tr>\n",
       "      <th>639</th>\n",
       "      <td>2016-08-08</td>\n",
       "      <td>21:50</td>\n",
       "      <td>2016-08-08</td>\n",
       "      <td>22:15</td>\n",
       "      <td>Business</td>\n",
       "      <td>Cary</td>\n",
       "      <td>Morrisville</td>\n",
       "      <td>4.8</td>\n",
       "      <td>NaN</td>\n",
       "      <td>August</td>\n",
       "      <td>25.0</td>\n",
       "    </tr>\n",
       "  </tbody>\n",
       "</table>\n",
       "</div>"
      ],
      "text/plain": [
       "    Start_Date Start_Time   End_Date End_Time CATEGORY*          START*  \\\n",
       "945 2016-11-12      13:46 2016-11-12    13:50  Business         Central   \n",
       "183 2016-03-04       7:47 2016-03-04     8:06  Business            Cary   \n",
       "418 2016-06-08      14:31 2016-06-08    14:37  Business  Medical Centre   \n",
       "353 2016-05-04      21:30 2016-05-04    21:36  Business     Capitol One   \n",
       "639 2016-08-08      21:50 2016-08-08    22:15  Business            Cary   \n",
       "\n",
       "                   STOP*  MILES*         PURPOSE*     Month  Travelling_Time  \n",
       "945        West Berkeley     0.6              NaN  November              4.0  \n",
       "183               Durham     9.9          Meeting     March             19.0  \n",
       "418           Tudor City     0.7  Errand/Supplies      June              6.0  \n",
       "353  University District     4.5   Meal/Entertain       May              6.0  \n",
       "639          Morrisville     4.8              NaN    August             25.0  "
      ]
     },
     "execution_count": 10,
     "metadata": {},
     "output_type": "execute_result"
    }
   ],
   "source": [
    "df['Travelling_Time'] = ((pd.to_datetime(df['End_Time'], format='%H:%M')) - (pd.to_datetime(df['Start_Time'], format='%H:%M'))).dt.total_seconds() / 60\n",
    "\n",
    "df.loc[df['Travelling_Time'] < 0, 'Travelling_Time'] += 24 * 60\n",
    "\n",
    "df.sample(5)"
   ]
  },
  {
   "cell_type": "markdown",
   "id": "d32d3d97",
   "metadata": {
    "papermill": {
     "duration": 0.010795,
     "end_time": "2023-06-27T17:56:48.393503",
     "exception": false,
     "start_time": "2023-06-27T17:56:48.382708",
     "status": "completed"
    },
    "tags": []
   },
   "source": [
    "**Renaming each feature for proper Identification**"
   ]
  },
  {
   "cell_type": "code",
   "execution_count": 11,
   "id": "51adc916",
   "metadata": {
    "execution": {
     "iopub.execute_input": "2023-06-27T17:56:48.425229Z",
     "iopub.status.busy": "2023-06-27T17:56:48.424220Z",
     "iopub.status.idle": "2023-06-27T17:56:48.441232Z",
     "shell.execute_reply": "2023-06-27T17:56:48.440534Z"
    },
    "papermill": {
     "duration": 0.03535,
     "end_time": "2023-06-27T17:56:48.443096",
     "exception": false,
     "start_time": "2023-06-27T17:56:48.407746",
     "status": "completed"
    },
    "tags": []
   },
   "outputs": [
    {
     "data": {
      "text/html": [
       "<div>\n",
       "<style scoped>\n",
       "    .dataframe tbody tr th:only-of-type {\n",
       "        vertical-align: middle;\n",
       "    }\n",
       "\n",
       "    .dataframe tbody tr th {\n",
       "        vertical-align: top;\n",
       "    }\n",
       "\n",
       "    .dataframe thead th {\n",
       "        text-align: right;\n",
       "    }\n",
       "</style>\n",
       "<table border=\"1\" class=\"dataframe\">\n",
       "  <thead>\n",
       "    <tr style=\"text-align: right;\">\n",
       "      <th></th>\n",
       "      <th>Start_Date</th>\n",
       "      <th>Start_Time</th>\n",
       "      <th>End_Date</th>\n",
       "      <th>End_Time</th>\n",
       "      <th>Category</th>\n",
       "      <th>Start_Location</th>\n",
       "      <th>Stop_Location</th>\n",
       "      <th>Distance</th>\n",
       "      <th>Purpose</th>\n",
       "      <th>Month</th>\n",
       "      <th>Travelling_Time</th>\n",
       "    </tr>\n",
       "  </thead>\n",
       "  <tbody>\n",
       "    <tr>\n",
       "      <th>0</th>\n",
       "      <td>2016-01-01</td>\n",
       "      <td>21:11</td>\n",
       "      <td>2016-01-01</td>\n",
       "      <td>21:17</td>\n",
       "      <td>Business</td>\n",
       "      <td>Fort Pierce</td>\n",
       "      <td>Fort Pierce</td>\n",
       "      <td>5.1</td>\n",
       "      <td>Meal/Entertain</td>\n",
       "      <td>January</td>\n",
       "      <td>6.0</td>\n",
       "    </tr>\n",
       "    <tr>\n",
       "      <th>1</th>\n",
       "      <td>2016-01-02</td>\n",
       "      <td>1:25</td>\n",
       "      <td>2016-01-02</td>\n",
       "      <td>1:37</td>\n",
       "      <td>Business</td>\n",
       "      <td>Fort Pierce</td>\n",
       "      <td>Fort Pierce</td>\n",
       "      <td>5.0</td>\n",
       "      <td>NaN</td>\n",
       "      <td>January</td>\n",
       "      <td>12.0</td>\n",
       "    </tr>\n",
       "    <tr>\n",
       "      <th>2</th>\n",
       "      <td>2016-01-02</td>\n",
       "      <td>20:25</td>\n",
       "      <td>2016-01-02</td>\n",
       "      <td>20:38</td>\n",
       "      <td>Business</td>\n",
       "      <td>Fort Pierce</td>\n",
       "      <td>Fort Pierce</td>\n",
       "      <td>4.8</td>\n",
       "      <td>Errand/Supplies</td>\n",
       "      <td>January</td>\n",
       "      <td>13.0</td>\n",
       "    </tr>\n",
       "    <tr>\n",
       "      <th>3</th>\n",
       "      <td>2016-01-05</td>\n",
       "      <td>17:31</td>\n",
       "      <td>2016-01-05</td>\n",
       "      <td>17:45</td>\n",
       "      <td>Business</td>\n",
       "      <td>Fort Pierce</td>\n",
       "      <td>Fort Pierce</td>\n",
       "      <td>4.7</td>\n",
       "      <td>Meeting</td>\n",
       "      <td>January</td>\n",
       "      <td>14.0</td>\n",
       "    </tr>\n",
       "    <tr>\n",
       "      <th>4</th>\n",
       "      <td>2016-01-06</td>\n",
       "      <td>14:42</td>\n",
       "      <td>2016-01-06</td>\n",
       "      <td>15:49</td>\n",
       "      <td>Business</td>\n",
       "      <td>Fort Pierce</td>\n",
       "      <td>West Palm Beach</td>\n",
       "      <td>63.7</td>\n",
       "      <td>Customer Visit</td>\n",
       "      <td>January</td>\n",
       "      <td>67.0</td>\n",
       "    </tr>\n",
       "  </tbody>\n",
       "</table>\n",
       "</div>"
      ],
      "text/plain": [
       "  Start_Date Start_Time   End_Date End_Time  Category Start_Location  \\\n",
       "0 2016-01-01      21:11 2016-01-01    21:17  Business    Fort Pierce   \n",
       "1 2016-01-02       1:25 2016-01-02     1:37  Business    Fort Pierce   \n",
       "2 2016-01-02      20:25 2016-01-02    20:38  Business    Fort Pierce   \n",
       "3 2016-01-05      17:31 2016-01-05    17:45  Business    Fort Pierce   \n",
       "4 2016-01-06      14:42 2016-01-06    15:49  Business    Fort Pierce   \n",
       "\n",
       "     Stop_Location  Distance          Purpose    Month  Travelling_Time  \n",
       "0      Fort Pierce       5.1   Meal/Entertain  January              6.0  \n",
       "1      Fort Pierce       5.0              NaN  January             12.0  \n",
       "2      Fort Pierce       4.8  Errand/Supplies  January             13.0  \n",
       "3      Fort Pierce       4.7          Meeting  January             14.0  \n",
       "4  West Palm Beach      63.7   Customer Visit  January             67.0  "
      ]
     },
     "execution_count": 11,
     "metadata": {},
     "output_type": "execute_result"
    }
   ],
   "source": [
    "dict = {'CATEGORY*': 'Category',\n",
    "        'START*': 'Start_Location',\n",
    "        'STOP*': 'Stop_Location',\n",
    "        'MILES*': 'Distance',\n",
    "        'PURPOSE*': 'Purpose'\n",
    "       }\n",
    "df.rename(columns=dict,\n",
    "          inplace=True)\n",
    "df.head()"
   ]
  },
  {
   "cell_type": "markdown",
   "id": "289e8eac",
   "metadata": {
    "papermill": {
     "duration": 0.010835,
     "end_time": "2023-06-27T17:56:48.469646",
     "exception": false,
     "start_time": "2023-06-27T17:56:48.458811",
     "status": "completed"
    },
    "tags": []
   },
   "source": [
    "**Now Let's move on and check if any of our features contains Null Values, we wouldn't want Null values to affect our Analysis**"
   ]
  },
  {
   "cell_type": "code",
   "execution_count": 12,
   "id": "1923eafb",
   "metadata": {
    "execution": {
     "iopub.execute_input": "2023-06-27T17:56:48.501296Z",
     "iopub.status.busy": "2023-06-27T17:56:48.500620Z",
     "iopub.status.idle": "2023-06-27T17:56:48.509861Z",
     "shell.execute_reply": "2023-06-27T17:56:48.508795Z"
    },
    "papermill": {
     "duration": 0.028068,
     "end_time": "2023-06-27T17:56:48.511923",
     "exception": false,
     "start_time": "2023-06-27T17:56:48.483855",
     "status": "completed"
    },
    "tags": []
   },
   "outputs": [
    {
     "name": "stdout",
     "output_type": "stream",
     "text": [
      "Checking Null Values in Category :  False\n",
      "Checking Null Values in Purpose :  True\n",
      "Checking Null Values in Start_Location :  False\n",
      "Checking Null Values in Stop_Location :  False\n",
      "Checking Null Values in Distance :  False\n"
     ]
    }
   ],
   "source": [
    "print(\"Checking Null Values in Category : \", df.Category.isna().any())\n",
    "print(\"Checking Null Values in Purpose : \", df.Purpose.isna().any())\n",
    "print(\"Checking Null Values in Start_Location : \", df.Start_Location.isna().any())\n",
    "print(\"Checking Null Values in Stop_Location : \", df.Stop_Location.isna().any())\n",
    "print(\"Checking Null Values in Distance : \", df.Distance.isna().any())"
   ]
  },
  {
   "cell_type": "code",
   "execution_count": 13,
   "id": "7578ab29",
   "metadata": {
    "execution": {
     "iopub.execute_input": "2023-06-27T17:56:48.544114Z",
     "iopub.status.busy": "2023-06-27T17:56:48.543489Z",
     "iopub.status.idle": "2023-06-27T17:56:48.550086Z",
     "shell.execute_reply": "2023-06-27T17:56:48.549482Z"
    },
    "papermill": {
     "duration": 0.025752,
     "end_time": "2023-06-27T17:56:48.552190",
     "exception": false,
     "start_time": "2023-06-27T17:56:48.526438",
     "status": "completed"
    },
    "tags": []
   },
   "outputs": [
    {
     "data": {
      "text/plain": [
       "False"
      ]
     },
     "execution_count": 13,
     "metadata": {},
     "output_type": "execute_result"
    }
   ],
   "source": [
    "# Changing nan values in \"Purpose\" to \"Others\"\n",
    "\n",
    "df['Purpose'] = df['Purpose'].replace(np.nan, \"Others\")\n",
    "df.Purpose.isna().any()"
   ]
  },
  {
   "cell_type": "markdown",
   "id": "b87eea55",
   "metadata": {
    "papermill": {
     "duration": 0.010962,
     "end_time": "2023-06-27T17:56:48.575015",
     "exception": false,
     "start_time": "2023-06-27T17:56:48.564053",
     "status": "completed"
    },
    "tags": []
   },
   "source": [
    "**So we are almost ready with our prepared data for Analysis**"
   ]
  },
  {
   "cell_type": "markdown",
   "id": "e2c5f202",
   "metadata": {
    "papermill": {
     "duration": 0.01083,
     "end_time": "2023-06-27T17:56:48.597481",
     "exception": false,
     "start_time": "2023-06-27T17:56:48.586651",
     "status": "completed"
    },
    "tags": []
   },
   "source": [
    "# Exploratory Data Analysis (EDA)"
   ]
  },
  {
   "cell_type": "code",
   "execution_count": 14,
   "id": "e88b9e64",
   "metadata": {
    "execution": {
     "iopub.execute_input": "2023-06-27T17:56:48.621894Z",
     "iopub.status.busy": "2023-06-27T17:56:48.621340Z",
     "iopub.status.idle": "2023-06-27T17:56:48.635505Z",
     "shell.execute_reply": "2023-06-27T17:56:48.634924Z"
    },
    "papermill": {
     "duration": 0.028648,
     "end_time": "2023-06-27T17:56:48.637516",
     "exception": false,
     "start_time": "2023-06-27T17:56:48.608868",
     "status": "completed"
    },
    "tags": []
   },
   "outputs": [
    {
     "data": {
      "text/html": [
       "<div>\n",
       "<style scoped>\n",
       "    .dataframe tbody tr th:only-of-type {\n",
       "        vertical-align: middle;\n",
       "    }\n",
       "\n",
       "    .dataframe tbody tr th {\n",
       "        vertical-align: top;\n",
       "    }\n",
       "\n",
       "    .dataframe thead th {\n",
       "        text-align: right;\n",
       "    }\n",
       "</style>\n",
       "<table border=\"1\" class=\"dataframe\">\n",
       "  <thead>\n",
       "    <tr style=\"text-align: right;\">\n",
       "      <th></th>\n",
       "      <th>Start_Date</th>\n",
       "      <th>Start_Time</th>\n",
       "      <th>End_Date</th>\n",
       "      <th>End_Time</th>\n",
       "      <th>Category</th>\n",
       "      <th>Start_Location</th>\n",
       "      <th>Stop_Location</th>\n",
       "      <th>Distance</th>\n",
       "      <th>Purpose</th>\n",
       "      <th>Month</th>\n",
       "      <th>Travelling_Time</th>\n",
       "    </tr>\n",
       "  </thead>\n",
       "  <tbody>\n",
       "    <tr>\n",
       "      <th>488</th>\n",
       "      <td>2016-06-27</td>\n",
       "      <td>21:09</td>\n",
       "      <td>2016-06-27</td>\n",
       "      <td>21:19</td>\n",
       "      <td>Business</td>\n",
       "      <td>Jamestown Court</td>\n",
       "      <td>Jamestown Court</td>\n",
       "      <td>1.0</td>\n",
       "      <td>Others</td>\n",
       "      <td>June</td>\n",
       "      <td>10.0</td>\n",
       "    </tr>\n",
       "    <tr>\n",
       "      <th>456</th>\n",
       "      <td>2016-06-19</td>\n",
       "      <td>5:51</td>\n",
       "      <td>2016-06-19</td>\n",
       "      <td>6:00</td>\n",
       "      <td>Business</td>\n",
       "      <td>Raleigh</td>\n",
       "      <td>Cary</td>\n",
       "      <td>5.9</td>\n",
       "      <td>Others</td>\n",
       "      <td>June</td>\n",
       "      <td>9.0</td>\n",
       "    </tr>\n",
       "    <tr>\n",
       "      <th>260</th>\n",
       "      <td>2016-03-21</td>\n",
       "      <td>20:18</td>\n",
       "      <td>2016-03-21</td>\n",
       "      <td>20:55</td>\n",
       "      <td>Business</td>\n",
       "      <td>Sharpstown</td>\n",
       "      <td>Midtown</td>\n",
       "      <td>25.6</td>\n",
       "      <td>Meal/Entertain</td>\n",
       "      <td>March</td>\n",
       "      <td>37.0</td>\n",
       "    </tr>\n",
       "    <tr>\n",
       "      <th>381</th>\n",
       "      <td>2016-05-23</td>\n",
       "      <td>20:19</td>\n",
       "      <td>2016-05-23</td>\n",
       "      <td>20:27</td>\n",
       "      <td>Business</td>\n",
       "      <td>Whitebridge</td>\n",
       "      <td>Savon Height</td>\n",
       "      <td>3.6</td>\n",
       "      <td>Meal/Entertain</td>\n",
       "      <td>May</td>\n",
       "      <td>8.0</td>\n",
       "    </tr>\n",
       "    <tr>\n",
       "      <th>109</th>\n",
       "      <td>2016-02-16</td>\n",
       "      <td>8:29</td>\n",
       "      <td>2016-02-16</td>\n",
       "      <td>9:34</td>\n",
       "      <td>Business</td>\n",
       "      <td>Unknown Location</td>\n",
       "      <td>Colombo</td>\n",
       "      <td>14.1</td>\n",
       "      <td>Others</td>\n",
       "      <td>February</td>\n",
       "      <td>65.0</td>\n",
       "    </tr>\n",
       "    <tr>\n",
       "      <th>386</th>\n",
       "      <td>2016-05-28</td>\n",
       "      <td>0:15</td>\n",
       "      <td>2016-05-28</td>\n",
       "      <td>0:21</td>\n",
       "      <td>Business</td>\n",
       "      <td>Kilarney Woods</td>\n",
       "      <td>Whitebridge</td>\n",
       "      <td>4.7</td>\n",
       "      <td>Errand/Supplies</td>\n",
       "      <td>May</td>\n",
       "      <td>6.0</td>\n",
       "    </tr>\n",
       "    <tr>\n",
       "      <th>1032</th>\n",
       "      <td>2016-12-09</td>\n",
       "      <td>12:09</td>\n",
       "      <td>2016-12-09</td>\n",
       "      <td>12:24</td>\n",
       "      <td>Business</td>\n",
       "      <td>Cary</td>\n",
       "      <td>Apex</td>\n",
       "      <td>5.1</td>\n",
       "      <td>Errand/Supplies</td>\n",
       "      <td>December</td>\n",
       "      <td>15.0</td>\n",
       "    </tr>\n",
       "    <tr>\n",
       "      <th>1078</th>\n",
       "      <td>2016-12-20</td>\n",
       "      <td>18:47</td>\n",
       "      <td>2016-12-20</td>\n",
       "      <td>19:21</td>\n",
       "      <td>Business</td>\n",
       "      <td>Islamabad</td>\n",
       "      <td>Unknown Location</td>\n",
       "      <td>10.3</td>\n",
       "      <td>Customer Visit</td>\n",
       "      <td>December</td>\n",
       "      <td>34.0</td>\n",
       "    </tr>\n",
       "    <tr>\n",
       "      <th>1008</th>\n",
       "      <td>2016-11-30</td>\n",
       "      <td>12:43</td>\n",
       "      <td>2016-11-30</td>\n",
       "      <td>12:53</td>\n",
       "      <td>Business</td>\n",
       "      <td>Morrisville</td>\n",
       "      <td>Cary</td>\n",
       "      <td>3.1</td>\n",
       "      <td>Others</td>\n",
       "      <td>November</td>\n",
       "      <td>10.0</td>\n",
       "    </tr>\n",
       "    <tr>\n",
       "      <th>474</th>\n",
       "      <td>2016-06-26</td>\n",
       "      <td>17:43</td>\n",
       "      <td>2016-06-26</td>\n",
       "      <td>18:18</td>\n",
       "      <td>Business</td>\n",
       "      <td>New Orleans</td>\n",
       "      <td>Kenner</td>\n",
       "      <td>12.6</td>\n",
       "      <td>Meeting</td>\n",
       "      <td>June</td>\n",
       "      <td>35.0</td>\n",
       "    </tr>\n",
       "  </tbody>\n",
       "</table>\n",
       "</div>"
      ],
      "text/plain": [
       "     Start_Date Start_Time   End_Date End_Time  Category    Start_Location  \\\n",
       "488  2016-06-27      21:09 2016-06-27    21:19  Business   Jamestown Court   \n",
       "456  2016-06-19       5:51 2016-06-19     6:00  Business           Raleigh   \n",
       "260  2016-03-21      20:18 2016-03-21    20:55  Business        Sharpstown   \n",
       "381  2016-05-23      20:19 2016-05-23    20:27  Business       Whitebridge   \n",
       "109  2016-02-16       8:29 2016-02-16     9:34  Business  Unknown Location   \n",
       "386  2016-05-28       0:15 2016-05-28     0:21  Business    Kilarney Woods   \n",
       "1032 2016-12-09      12:09 2016-12-09    12:24  Business              Cary   \n",
       "1078 2016-12-20      18:47 2016-12-20    19:21  Business         Islamabad   \n",
       "1008 2016-11-30      12:43 2016-11-30    12:53  Business       Morrisville   \n",
       "474  2016-06-26      17:43 2016-06-26    18:18  Business       New Orleans   \n",
       "\n",
       "         Stop_Location  Distance          Purpose     Month  Travelling_Time  \n",
       "488    Jamestown Court       1.0           Others      June             10.0  \n",
       "456               Cary       5.9           Others      June              9.0  \n",
       "260            Midtown      25.6   Meal/Entertain     March             37.0  \n",
       "381       Savon Height       3.6   Meal/Entertain       May              8.0  \n",
       "109            Colombo      14.1           Others  February             65.0  \n",
       "386        Whitebridge       4.7  Errand/Supplies       May              6.0  \n",
       "1032              Apex       5.1  Errand/Supplies  December             15.0  \n",
       "1078  Unknown Location      10.3   Customer Visit  December             34.0  \n",
       "1008              Cary       3.1           Others  November             10.0  \n",
       "474             Kenner      12.6          Meeting      June             35.0  "
      ]
     },
     "execution_count": 14,
     "metadata": {},
     "output_type": "execute_result"
    }
   ],
   "source": [
    "df.sample(10)"
   ]
  },
  {
   "cell_type": "markdown",
   "id": "ea53520c",
   "metadata": {
    "papermill": {
     "duration": 0.011219,
     "end_time": "2023-06-27T17:56:48.661177",
     "exception": false,
     "start_time": "2023-06-27T17:56:48.649958",
     "status": "completed"
    },
    "tags": []
   },
   "source": [
    "### **Let's kick off with the most busiest month of the year 2016**\n",
    "\n",
    "\n",
    "\n",
    "\n",
    "\n"
   ]
  },
  {
   "cell_type": "code",
   "execution_count": 15,
   "id": "0fdd0700",
   "metadata": {
    "execution": {
     "iopub.execute_input": "2023-06-27T17:56:48.685691Z",
     "iopub.status.busy": "2023-06-27T17:56:48.685352Z",
     "iopub.status.idle": "2023-06-27T17:56:49.024549Z",
     "shell.execute_reply": "2023-06-27T17:56:49.023178Z"
    },
    "papermill": {
     "duration": 0.353949,
     "end_time": "2023-06-27T17:56:49.026601",
     "exception": false,
     "start_time": "2023-06-27T17:56:48.672652",
     "status": "completed"
    },
    "tags": []
   },
   "outputs": [
    {
     "data": {
      "image/png": "[encoded data removed]",
      "text/plain": [
       "<Figure size 500x500 with 1 Axes>"
      ]
     },
     "metadata": {},
     "output_type": "display_data"
    }
   ],
   "source": [
    "sns.displot(df['Month'])\n",
    "plt.xticks(rotation = 90)\n",
    "plt.ylabel(\"Frequency\")\n",
    "plt.title(\"Monthly Report of 2016 Uber Drives\")\n",
    "plt.show()"
   ]
  },
  {
   "cell_type": "markdown",
   "id": "7d66fac9",
   "metadata": {
    "papermill": {
     "duration": 0.016927,
     "end_time": "2023-06-27T17:56:49.057979",
     "exception": false,
     "start_time": "2023-06-27T17:56:49.041052",
     "status": "completed"
    },
    "tags": []
   },
   "source": [
    "**INSIGHTS :** We can clearly see that December was the most busiest month followed by August and November "
   ]
  },
  {
   "cell_type": "markdown",
   "id": "ae7982c5",
   "metadata": {
    "papermill": {
     "duration": 0.011784,
     "end_time": "2023-06-27T17:56:49.084422",
     "exception": false,
     "start_time": "2023-06-27T17:56:49.072638",
     "status": "completed"
    },
    "tags": []
   },
   "source": [
    "### **Let's dive an Analyse the Month of December as it the most active month in the year 2016**"
   ]
  },
  {
   "cell_type": "code",
   "execution_count": 16,
   "id": "b1e7ea0b",
   "metadata": {
    "execution": {
     "iopub.execute_input": "2023-06-27T17:56:49.112141Z",
     "iopub.status.busy": "2023-06-27T17:56:49.111801Z",
     "iopub.status.idle": "2023-06-27T17:56:49.296436Z",
     "shell.execute_reply": "2023-06-27T17:56:49.295186Z"
    },
    "papermill": {
     "duration": 0.201723,
     "end_time": "2023-06-27T17:56:49.298894",
     "exception": false,
     "start_time": "2023-06-27T17:56:49.097171",
     "status": "completed"
    },
    "tags": []
   },
   "outputs": [
    {
     "data": {
      "image/png": "[encoded data removed]",
      "text/plain": [
       "<Figure size 640x480 with 1 Axes>"
      ]
     },
     "metadata": {},
     "output_type": "display_data"
    }
   ],
   "source": [
    "Travelling_Time_Dec = df[df['Month'] == \"December\"]['Travelling_Time']\n",
    "Travelling_Time_Dec = pd.cut(Travelling_Time_Dec, bins = [2, 20, 40, 60, 120, 180])\n",
    "\n",
    "Travelling_Time_Dec = Travelling_Time_Dec.value_counts().sort_index()\n",
    "plt.bar(Travelling_Time_Dec.index.astype(str), Travelling_Time_Dec.values)\n",
    "\n",
    "plt.xlabel('Time Range (Minutes)')\n",
    "plt.ylabel('Count')\n",
    "plt.title('Most Travelling Time in December 2016')\n",
    "plt.show()"
   ]
  },
  {
   "cell_type": "markdown",
   "id": "86c02ca8",
   "metadata": {
    "papermill": {
     "duration": 0.011683,
     "end_time": "2023-06-27T17:56:49.323430",
     "exception": false,
     "start_time": "2023-06-27T17:56:49.311747",
     "status": "completed"
    },
    "tags": []
   },
   "source": [
    "**INSIGHTS :** We cen clearly get an insight from the above bar plot that maximum Uber Rides lasted between 2 to 20 minutes in the month of December 2016."
   ]
  },
  {
   "cell_type": "markdown",
   "id": "c081143c",
   "metadata": {
    "papermill": {
     "duration": 0.013072,
     "end_time": "2023-06-27T17:56:49.349749",
     "exception": false,
     "start_time": "2023-06-27T17:56:49.336677",
     "status": "completed"
    },
    "tags": []
   },
   "source": [
    "### **Now let's plot and see the overall distances covered by User Drivers throughout the year.**"
   ]
  },
  {
   "cell_type": "code",
   "execution_count": 17,
   "id": "605af9d6",
   "metadata": {
    "execution": {
     "iopub.execute_input": "2023-06-27T17:56:49.379094Z",
     "iopub.status.busy": "2023-06-27T17:56:49.378771Z",
     "iopub.status.idle": "2023-06-27T17:56:49.643891Z",
     "shell.execute_reply": "2023-06-27T17:56:49.642644Z"
    },
    "papermill": {
     "duration": 0.282529,
     "end_time": "2023-06-27T17:56:49.645871",
     "exception": false,
     "start_time": "2023-06-27T17:56:49.363342",
     "status": "completed"
    },
    "tags": []
   },
   "outputs": [
    {
     "data": {
      "text/plain": [
       "Text(0.5, 1.0, 'Overall Distance Covered by Uber Drives')"
      ]
     },
     "execution_count": 17,
     "metadata": {},
     "output_type": "execute_result"
    },
    {
     "data": {
      "image/png": "[encoded data removed]",
      "text/plain": [
       "<Figure size 640x480 with 1 Axes>"
      ]
     },
     "metadata": {},
     "output_type": "display_data"
    }
   ],
   "source": [
    "df.Distance.plot(kind='hist', bins = [0,5,10,15,20,35,50])\n",
    "plt.xlabel(\"Miles Travelled\")\n",
    "plt.ylabel(\"Frequency of Rides\")\n",
    "plt.title(\"Overall Distance Covered by Uber Drives\")"
   ]
  },
  {
   "cell_type": "markdown",
   "id": "2f93b184",
   "metadata": {
    "papermill": {
     "duration": 0.012273,
     "end_time": "2023-06-27T17:56:49.671165",
     "exception": false,
     "start_time": "2023-06-27T17:56:49.658892",
     "status": "completed"
    },
    "tags": []
   },
   "source": [
    "**INSIGHTS :** This gives us a clear idea that there were more than 450+ rides that covered 0 to 5 Miles and over 300 rides that covered 5 to 15 miles of journey throughout the year."
   ]
  },
  {
   "cell_type": "markdown",
   "id": "0d95be8f",
   "metadata": {
    "papermill": {
     "duration": 0.013732,
     "end_time": "2023-06-27T17:56:49.697143",
     "exception": false,
     "start_time": "2023-06-27T17:56:49.683411",
     "status": "completed"
    },
    "tags": []
   },
   "source": [
    "### **Let's analyse the Longest the Distances.**\n",
    "\n",
    "\n",
    "\n"
   ]
  },
  {
   "cell_type": "code",
   "execution_count": 18,
   "id": "e2a31fbf",
   "metadata": {
    "execution": {
     "iopub.execute_input": "2023-06-27T17:56:49.726201Z",
     "iopub.status.busy": "2023-06-27T17:56:49.725891Z",
     "iopub.status.idle": "2023-06-27T17:56:49.741491Z",
     "shell.execute_reply": "2023-06-27T17:56:49.740498Z"
    },
    "papermill": {
     "duration": 0.032404,
     "end_time": "2023-06-27T17:56:49.743729",
     "exception": false,
     "start_time": "2023-06-27T17:56:49.711325",
     "status": "completed"
    },
    "tags": []
   },
   "outputs": [
    {
     "data": {
      "text/html": [
       "<div>\n",
       "<style scoped>\n",
       "    .dataframe tbody tr th:only-of-type {\n",
       "        vertical-align: middle;\n",
       "    }\n",
       "\n",
       "    .dataframe tbody tr th {\n",
       "        vertical-align: top;\n",
       "    }\n",
       "\n",
       "    .dataframe thead th {\n",
       "        text-align: right;\n",
       "    }\n",
       "</style>\n",
       "<table border=\"1\" class=\"dataframe\">\n",
       "  <thead>\n",
       "    <tr style=\"text-align: right;\">\n",
       "      <th></th>\n",
       "      <th>Start_Date</th>\n",
       "      <th>Start_Time</th>\n",
       "      <th>End_Date</th>\n",
       "      <th>End_Time</th>\n",
       "      <th>Category</th>\n",
       "      <th>Start_Location</th>\n",
       "      <th>Stop_Location</th>\n",
       "      <th>Distance</th>\n",
       "      <th>Purpose</th>\n",
       "      <th>Month</th>\n",
       "      <th>Travelling_Time</th>\n",
       "    </tr>\n",
       "  </thead>\n",
       "  <tbody>\n",
       "    <tr>\n",
       "      <th>776</th>\n",
       "      <td>2016-09-27</td>\n",
       "      <td>21:01</td>\n",
       "      <td>2016-09-28</td>\n",
       "      <td>2:37</td>\n",
       "      <td>Business</td>\n",
       "      <td>Unknown Location</td>\n",
       "      <td>Unknown Location</td>\n",
       "      <td>195.6</td>\n",
       "      <td>Others</td>\n",
       "      <td>September</td>\n",
       "      <td>336.0</td>\n",
       "    </tr>\n",
       "  </tbody>\n",
       "</table>\n",
       "</div>"
      ],
      "text/plain": [
       "    Start_Date Start_Time   End_Date End_Time  Category    Start_Location  \\\n",
       "776 2016-09-27      21:01 2016-09-28     2:37  Business  Unknown Location   \n",
       "\n",
       "        Stop_Location  Distance Purpose      Month  Travelling_Time  \n",
       "776  Unknown Location     195.6  Others  September            336.0  "
      ]
     },
     "execution_count": 18,
     "metadata": {},
     "output_type": "execute_result"
    }
   ],
   "source": [
    "maxtraffic = df.Travelling_Time.max()\n",
    "maxtrafficdf = df.loc[df.Travelling_Time == maxtraffic]\n",
    "maxtrafficdf"
   ]
  },
  {
   "cell_type": "markdown",
   "id": "ad7738ee",
   "metadata": {
    "papermill": {
     "duration": 0.012881,
     "end_time": "2023-06-27T17:56:49.770130",
     "exception": false,
     "start_time": "2023-06-27T17:56:49.757249",
     "status": "completed"
    },
    "tags": []
   },
   "source": [
    "We can see that the location is unknown, so let's clear all those unknown locations from our df and then find the maximum distance accordingly."
   ]
  },
  {
   "cell_type": "code",
   "execution_count": 19,
   "id": "f9ff7476",
   "metadata": {
    "execution": {
     "iopub.execute_input": "2023-06-27T17:56:49.797826Z",
     "iopub.status.busy": "2023-06-27T17:56:49.797492Z",
     "iopub.status.idle": "2023-06-27T17:56:50.244226Z",
     "shell.execute_reply": "2023-06-27T17:56:50.243270Z"
    },
    "papermill": {
     "duration": 0.463174,
     "end_time": "2023-06-27T17:56:50.246384",
     "exception": false,
     "start_time": "2023-06-27T17:56:49.783210",
     "status": "completed"
    },
    "tags": []
   },
   "outputs": [],
   "source": [
    "df_dist = df.copy()\n",
    "\n",
    "for x in range(len(df.Start_Location)):\n",
    "    if (df.loc[x].Start_Location == 'Unknown Location') or (df.loc[x].Stop_Location == 'Unknown Location'):\n",
    "        df_dist = df.drop(x)"
   ]
  },
  {
   "cell_type": "code",
   "execution_count": 20,
   "id": "85c67967",
   "metadata": {
    "execution": {
     "iopub.execute_input": "2023-06-27T17:56:50.273417Z",
     "iopub.status.busy": "2023-06-27T17:56:50.273072Z",
     "iopub.status.idle": "2023-06-27T17:56:50.287017Z",
     "shell.execute_reply": "2023-06-27T17:56:50.286124Z"
    },
    "papermill": {
     "duration": 0.029688,
     "end_time": "2023-06-27T17:56:50.289110",
     "exception": false,
     "start_time": "2023-06-27T17:56:50.259422",
     "status": "completed"
    },
    "tags": []
   },
   "outputs": [
    {
     "data": {
      "text/html": [
       "<div>\n",
       "<style scoped>\n",
       "    .dataframe tbody tr th:only-of-type {\n",
       "        vertical-align: middle;\n",
       "    }\n",
       "\n",
       "    .dataframe tbody tr th {\n",
       "        vertical-align: top;\n",
       "    }\n",
       "\n",
       "    .dataframe thead th {\n",
       "        text-align: right;\n",
       "    }\n",
       "</style>\n",
       "<table border=\"1\" class=\"dataframe\">\n",
       "  <thead>\n",
       "    <tr style=\"text-align: right;\">\n",
       "      <th></th>\n",
       "      <th>Start_Date</th>\n",
       "      <th>Start_Time</th>\n",
       "      <th>End_Date</th>\n",
       "      <th>End_Time</th>\n",
       "      <th>Category</th>\n",
       "      <th>Start_Location</th>\n",
       "      <th>Stop_Location</th>\n",
       "      <th>Distance</th>\n",
       "      <th>Purpose</th>\n",
       "      <th>Month</th>\n",
       "      <th>Travelling_Time</th>\n",
       "    </tr>\n",
       "  </thead>\n",
       "  <tbody>\n",
       "    <tr>\n",
       "      <th>776</th>\n",
       "      <td>2016-09-27</td>\n",
       "      <td>21:01</td>\n",
       "      <td>2016-09-28</td>\n",
       "      <td>2:37</td>\n",
       "      <td>Business</td>\n",
       "      <td>Unknown Location</td>\n",
       "      <td>Unknown Location</td>\n",
       "      <td>195.6</td>\n",
       "      <td>Others</td>\n",
       "      <td>September</td>\n",
       "      <td>336.0</td>\n",
       "    </tr>\n",
       "  </tbody>\n",
       "</table>\n",
       "</div>"
      ],
      "text/plain": [
       "    Start_Date Start_Time   End_Date End_Time  Category    Start_Location  \\\n",
       "776 2016-09-27      21:01 2016-09-28     2:37  Business  Unknown Location   \n",
       "\n",
       "        Stop_Location  Distance Purpose      Month  Travelling_Time  \n",
       "776  Unknown Location     195.6  Others  September            336.0  "
      ]
     },
     "execution_count": 20,
     "metadata": {},
     "output_type": "execute_result"
    }
   ],
   "source": [
    "maxtraffic = df_dist.Travelling_Time.max()\n",
    "maxtrafficdf = df_dist.loc[df_dist.Travelling_Time == maxtraffic]\n",
    "maxtrafficdf"
   ]
  },
  {
   "cell_type": "markdown",
   "id": "95592f69",
   "metadata": {
    "papermill": {
     "duration": 0.012531,
     "end_time": "2023-06-27T17:56:50.314987",
     "exception": false,
     "start_time": "2023-06-27T17:56:50.302456",
     "status": "completed"
    },
    "tags": []
   },
   "source": [
    " **So, we can see that the Longest distance is between Latta and Jacksonville**\n",
    " \n",
    " \n",
    " \n",
    "### **Moving on, let's visualize top 10 longest distances.**\n",
    " \n",
    " \n",
    " \n",
    " \n",
    " \n",
    " "
   ]
  },
  {
   "cell_type": "code",
   "execution_count": 21,
   "id": "e8a6b5d4",
   "metadata": {
    "execution": {
     "iopub.execute_input": "2023-06-27T17:56:50.342093Z",
     "iopub.status.busy": "2023-06-27T17:56:50.341607Z",
     "iopub.status.idle": "2023-06-27T17:56:50.362038Z",
     "shell.execute_reply": "2023-06-27T17:56:50.360947Z"
    },
    "papermill": {
     "duration": 0.036161,
     "end_time": "2023-06-27T17:56:50.363798",
     "exception": false,
     "start_time": "2023-06-27T17:56:50.327637",
     "status": "completed"
    },
    "tags": []
   },
   "outputs": [
    {
     "data": {
      "text/html": [
       "<div>\n",
       "<style scoped>\n",
       "    .dataframe tbody tr th:only-of-type {\n",
       "        vertical-align: middle;\n",
       "    }\n",
       "\n",
       "    .dataframe tbody tr th {\n",
       "        vertical-align: top;\n",
       "    }\n",
       "\n",
       "    .dataframe thead th {\n",
       "        text-align: right;\n",
       "    }\n",
       "</style>\n",
       "<table border=\"1\" class=\"dataframe\">\n",
       "  <thead>\n",
       "    <tr style=\"text-align: right;\">\n",
       "      <th></th>\n",
       "      <th>Start_Date</th>\n",
       "      <th>Start_Time</th>\n",
       "      <th>End_Date</th>\n",
       "      <th>End_Time</th>\n",
       "      <th>Category</th>\n",
       "      <th>Start_Location</th>\n",
       "      <th>Stop_Location</th>\n",
       "      <th>Distance</th>\n",
       "      <th>Purpose</th>\n",
       "      <th>Month</th>\n",
       "      <th>Travelling_Time</th>\n",
       "    </tr>\n",
       "  </thead>\n",
       "  <tbody>\n",
       "    <tr>\n",
       "      <th>269</th>\n",
       "      <td>2016-03-25</td>\n",
       "      <td>16:52</td>\n",
       "      <td>2016-03-25</td>\n",
       "      <td>22:22</td>\n",
       "      <td>Business</td>\n",
       "      <td>Latta</td>\n",
       "      <td>Jacksonville</td>\n",
       "      <td>310.3</td>\n",
       "      <td>Customer Visit</td>\n",
       "      <td>March</td>\n",
       "      <td>330.0</td>\n",
       "    </tr>\n",
       "    <tr>\n",
       "      <th>270</th>\n",
       "      <td>2016-03-25</td>\n",
       "      <td>22:54</td>\n",
       "      <td>2016-03-26</td>\n",
       "      <td>1:39</td>\n",
       "      <td>Business</td>\n",
       "      <td>Jacksonville</td>\n",
       "      <td>Kissimmee</td>\n",
       "      <td>201.0</td>\n",
       "      <td>Meeting</td>\n",
       "      <td>March</td>\n",
       "      <td>165.0</td>\n",
       "    </tr>\n",
       "    <tr>\n",
       "      <th>881</th>\n",
       "      <td>2016-10-30</td>\n",
       "      <td>15:22</td>\n",
       "      <td>2016-10-30</td>\n",
       "      <td>18:23</td>\n",
       "      <td>Business</td>\n",
       "      <td>Asheville</td>\n",
       "      <td>Mebane</td>\n",
       "      <td>195.9</td>\n",
       "      <td>Others</td>\n",
       "      <td>October</td>\n",
       "      <td>181.0</td>\n",
       "    </tr>\n",
       "    <tr>\n",
       "      <th>776</th>\n",
       "      <td>2016-09-27</td>\n",
       "      <td>21:01</td>\n",
       "      <td>2016-09-28</td>\n",
       "      <td>2:37</td>\n",
       "      <td>Business</td>\n",
       "      <td>Unknown Location</td>\n",
       "      <td>Unknown Location</td>\n",
       "      <td>195.6</td>\n",
       "      <td>Others</td>\n",
       "      <td>September</td>\n",
       "      <td>336.0</td>\n",
       "    </tr>\n",
       "    <tr>\n",
       "      <th>546</th>\n",
       "      <td>2016-07-14</td>\n",
       "      <td>16:39</td>\n",
       "      <td>2016-07-14</td>\n",
       "      <td>20:05</td>\n",
       "      <td>Business</td>\n",
       "      <td>Morrisville</td>\n",
       "      <td>Banner Elk</td>\n",
       "      <td>195.3</td>\n",
       "      <td>Others</td>\n",
       "      <td>July</td>\n",
       "      <td>206.0</td>\n",
       "    </tr>\n",
       "    <tr>\n",
       "      <th>559</th>\n",
       "      <td>2016-07-17</td>\n",
       "      <td>12:20</td>\n",
       "      <td>2016-07-17</td>\n",
       "      <td>15:25</td>\n",
       "      <td>Personal</td>\n",
       "      <td>Boone</td>\n",
       "      <td>Cary</td>\n",
       "      <td>180.2</td>\n",
       "      <td>Commute</td>\n",
       "      <td>July</td>\n",
       "      <td>185.0</td>\n",
       "    </tr>\n",
       "    <tr>\n",
       "      <th>297</th>\n",
       "      <td>2016-04-02</td>\n",
       "      <td>19:38</td>\n",
       "      <td>2016-04-02</td>\n",
       "      <td>22:36</td>\n",
       "      <td>Business</td>\n",
       "      <td>Jacksonville</td>\n",
       "      <td>Ridgeland</td>\n",
       "      <td>174.2</td>\n",
       "      <td>Customer Visit</td>\n",
       "      <td>April</td>\n",
       "      <td>178.0</td>\n",
       "    </tr>\n",
       "    <tr>\n",
       "      <th>299</th>\n",
       "      <td>2016-04-03</td>\n",
       "      <td>2:00</td>\n",
       "      <td>2016-04-03</td>\n",
       "      <td>4:16</td>\n",
       "      <td>Business</td>\n",
       "      <td>Florence</td>\n",
       "      <td>Cary</td>\n",
       "      <td>159.3</td>\n",
       "      <td>Meeting</td>\n",
       "      <td>April</td>\n",
       "      <td>136.0</td>\n",
       "    </tr>\n",
       "    <tr>\n",
       "      <th>727</th>\n",
       "      <td>2016-08-27</td>\n",
       "      <td>16:15</td>\n",
       "      <td>2016-08-27</td>\n",
       "      <td>19:13</td>\n",
       "      <td>Business</td>\n",
       "      <td>Unknown Location</td>\n",
       "      <td>Unknown Location</td>\n",
       "      <td>156.9</td>\n",
       "      <td>Others</td>\n",
       "      <td>August</td>\n",
       "      <td>178.0</td>\n",
       "    </tr>\n",
       "    <tr>\n",
       "      <th>268</th>\n",
       "      <td>2016-03-25</td>\n",
       "      <td>13:24</td>\n",
       "      <td>2016-03-25</td>\n",
       "      <td>16:22</td>\n",
       "      <td>Business</td>\n",
       "      <td>Cary</td>\n",
       "      <td>Latta</td>\n",
       "      <td>144.0</td>\n",
       "      <td>Customer Visit</td>\n",
       "      <td>March</td>\n",
       "      <td>178.0</td>\n",
       "    </tr>\n",
       "  </tbody>\n",
       "</table>\n",
       "</div>"
      ],
      "text/plain": [
       "    Start_Date Start_Time   End_Date End_Time  Category    Start_Location  \\\n",
       "269 2016-03-25      16:52 2016-03-25    22:22  Business             Latta   \n",
       "270 2016-03-25      22:54 2016-03-26     1:39  Business      Jacksonville   \n",
       "881 2016-10-30      15:22 2016-10-30    18:23  Business         Asheville   \n",
       "776 2016-09-27      21:01 2016-09-28     2:37  Business  Unknown Location   \n",
       "546 2016-07-14      16:39 2016-07-14    20:05  Business       Morrisville   \n",
       "559 2016-07-17      12:20 2016-07-17    15:25  Personal             Boone   \n",
       "297 2016-04-02      19:38 2016-04-02    22:36  Business      Jacksonville   \n",
       "299 2016-04-03       2:00 2016-04-03     4:16  Business          Florence   \n",
       "727 2016-08-27      16:15 2016-08-27    19:13  Business  Unknown Location   \n",
       "268 2016-03-25      13:24 2016-03-25    16:22  Business              Cary   \n",
       "\n",
       "        Stop_Location  Distance         Purpose      Month  Travelling_Time  \n",
       "269      Jacksonville     310.3  Customer Visit      March            330.0  \n",
       "270         Kissimmee     201.0         Meeting      March            165.0  \n",
       "881            Mebane     195.9          Others    October            181.0  \n",
       "776  Unknown Location     195.6          Others  September            336.0  \n",
       "546        Banner Elk     195.3          Others       July            206.0  \n",
       "559              Cary     180.2         Commute       July            185.0  \n",
       "297         Ridgeland     174.2  Customer Visit      April            178.0  \n",
       "299              Cary     159.3         Meeting      April            136.0  \n",
       "727  Unknown Location     156.9          Others     August            178.0  \n",
       "268             Latta     144.0  Customer Visit      March            178.0  "
      ]
     },
     "execution_count": 21,
     "metadata": {},
     "output_type": "execute_result"
    }
   ],
   "source": [
    "longest_10 = df_dist.nlargest(10, 'Distance')\n",
    "longest_10"
   ]
  },
  {
   "cell_type": "code",
   "execution_count": 22,
   "id": "decebcee",
   "metadata": {
    "execution": {
     "iopub.execute_input": "2023-06-27T17:56:50.391716Z",
     "iopub.status.busy": "2023-06-27T17:56:50.391374Z",
     "iopub.status.idle": "2023-06-27T17:56:50.398559Z",
     "shell.execute_reply": "2023-06-27T17:56:50.397737Z"
    },
    "papermill": {
     "duration": 0.022963,
     "end_time": "2023-06-27T17:56:50.400267",
     "exception": false,
     "start_time": "2023-06-27T17:56:50.377304",
     "status": "completed"
    },
    "tags": []
   },
   "outputs": [
    {
     "data": {
      "text/plain": [
       "[('Latta', 'Jacksonville'),\n",
       " ('Jacksonville', 'Kissimmee'),\n",
       " ('Asheville', 'Mebane'),\n",
       " ('Unknown Location', 'Unknown Location'),\n",
       " ('Morrisville', 'Banner Elk'),\n",
       " ('Boone', 'Cary'),\n",
       " ('Jacksonville', 'Ridgeland'),\n",
       " ('Florence', 'Cary'),\n",
       " ('Unknown Location', 'Unknown Location'),\n",
       " ('Cary', 'Latta')]"
      ]
     },
     "execution_count": 22,
     "metadata": {},
     "output_type": "execute_result"
    }
   ],
   "source": [
    "Start = longest_10.Start_Location[:10].tolist()\n",
    "Stop = longest_10.Stop_Location[:10].tolist()\n",
    "labels = list(zip(Start, Stop))\n",
    "labels"
   ]
  },
  {
   "cell_type": "code",
   "execution_count": 23,
   "id": "850efea0",
   "metadata": {
    "execution": {
     "iopub.execute_input": "2023-06-27T17:56:50.428194Z",
     "iopub.status.busy": "2023-06-27T17:56:50.427903Z",
     "iopub.status.idle": "2023-06-27T17:56:50.641369Z",
     "shell.execute_reply": "2023-06-27T17:56:50.640480Z"
    },
    "papermill": {
     "duration": 0.230073,
     "end_time": "2023-06-27T17:56:50.643441",
     "exception": false,
     "start_time": "2023-06-27T17:56:50.413368",
     "status": "completed"
    },
    "tags": []
   },
   "outputs": [
    {
     "data": {
      "text/plain": [
       "Text(0.5, 1.0, 'Top 10 Longest Distances')"
      ]
     },
     "execution_count": 23,
     "metadata": {},
     "output_type": "execute_result"
    },
    {
     "data": {
      "image/png": "[encoded data removed]",
      "text/plain": [
       "<Figure size 640x480 with 1 Axes>"
      ]
     },
     "metadata": {},
     "output_type": "display_data"
    }
   ],
   "source": [
    "distances = df_dist.Distance.round().unique().tolist()\n",
    "distances.sort(reverse=True)\n",
    "plt.pie(distances[:10], labels=labels, autopct='%1.1f%%');\n",
    "plt.title(\"Top 10 Longest Distances\")"
   ]
  },
  {
   "cell_type": "markdown",
   "id": "96dc64bf",
   "metadata": {
    "papermill": {
     "duration": 0.018824,
     "end_time": "2023-06-27T17:56:50.681244",
     "exception": false,
     "start_time": "2023-06-27T17:56:50.662420",
     "status": "completed"
    },
    "tags": []
   },
   "source": [
    "#### Insights:\n",
    "- We can see from the above pie chart that **('Latta' to 'Jacksonville')** has maximum distance among all of the maximum distances followed by **('Jacksonville' to 'Kissimmee')** & **('Asheville' to 'Mebane')**.\n",
    "- Also **('Asheville' to 'Mebane')**, **('Morrisville' to 'Banner Elk')** has almost similar distance\n"
   ]
  },
  {
   "cell_type": "markdown",
   "id": "85d6e8cf",
   "metadata": {
    "papermill": {
     "duration": 0.01418,
     "end_time": "2023-06-27T17:56:50.710935",
     "exception": false,
     "start_time": "2023-06-27T17:56:50.696755",
     "status": "completed"
    },
    "tags": []
   },
   "source": [
    "### **Similarly plotting 5 Shortest Distances**"
   ]
  },
  {
   "cell_type": "code",
   "execution_count": 24,
   "id": "e2d79397",
   "metadata": {
    "execution": {
     "iopub.execute_input": "2023-06-27T17:56:50.740824Z",
     "iopub.status.busy": "2023-06-27T17:56:50.740464Z",
     "iopub.status.idle": "2023-06-27T17:56:50.757551Z",
     "shell.execute_reply": "2023-06-27T17:56:50.756395Z"
    },
    "papermill": {
     "duration": 0.034384,
     "end_time": "2023-06-27T17:56:50.759557",
     "exception": false,
     "start_time": "2023-06-27T17:56:50.725173",
     "status": "completed"
    },
    "tags": []
   },
   "outputs": [
    {
     "data": {
      "text/html": [
       "<div>\n",
       "<style scoped>\n",
       "    .dataframe tbody tr th:only-of-type {\n",
       "        vertical-align: middle;\n",
       "    }\n",
       "\n",
       "    .dataframe tbody tr th {\n",
       "        vertical-align: top;\n",
       "    }\n",
       "\n",
       "    .dataframe thead th {\n",
       "        text-align: right;\n",
       "    }\n",
       "</style>\n",
       "<table border=\"1\" class=\"dataframe\">\n",
       "  <thead>\n",
       "    <tr style=\"text-align: right;\">\n",
       "      <th></th>\n",
       "      <th>Start_Date</th>\n",
       "      <th>Start_Time</th>\n",
       "      <th>End_Date</th>\n",
       "      <th>End_Time</th>\n",
       "      <th>Category</th>\n",
       "      <th>Start_Location</th>\n",
       "      <th>Stop_Location</th>\n",
       "      <th>Distance</th>\n",
       "      <th>Purpose</th>\n",
       "      <th>Month</th>\n",
       "      <th>Travelling_Time</th>\n",
       "    </tr>\n",
       "  </thead>\n",
       "  <tbody>\n",
       "    <tr>\n",
       "      <th>44</th>\n",
       "      <td>2016-01-26</td>\n",
       "      <td>17:27</td>\n",
       "      <td>2016-01-26</td>\n",
       "      <td>17:29</td>\n",
       "      <td>Business</td>\n",
       "      <td>Cary</td>\n",
       "      <td>Cary</td>\n",
       "      <td>0.5</td>\n",
       "      <td>Errand/Supplies</td>\n",
       "      <td>January</td>\n",
       "      <td>2.0</td>\n",
       "    </tr>\n",
       "    <tr>\n",
       "      <th>120</th>\n",
       "      <td>2016-02-17</td>\n",
       "      <td>16:38</td>\n",
       "      <td>2016-02-17</td>\n",
       "      <td>16:43</td>\n",
       "      <td>Business</td>\n",
       "      <td>Katunayaka</td>\n",
       "      <td>Katunayaka</td>\n",
       "      <td>0.5</td>\n",
       "      <td>Errand/Supplies</td>\n",
       "      <td>February</td>\n",
       "      <td>5.0</td>\n",
       "    </tr>\n",
       "    <tr>\n",
       "      <th>420</th>\n",
       "      <td>2016-06-08</td>\n",
       "      <td>17:16</td>\n",
       "      <td>2016-06-08</td>\n",
       "      <td>17:18</td>\n",
       "      <td>Business</td>\n",
       "      <td>Soho</td>\n",
       "      <td>Tribeca</td>\n",
       "      <td>0.5</td>\n",
       "      <td>Errand/Supplies</td>\n",
       "      <td>June</td>\n",
       "      <td>2.0</td>\n",
       "    </tr>\n",
       "    <tr>\n",
       "      <th>516</th>\n",
       "      <td>2016-07-05</td>\n",
       "      <td>16:48</td>\n",
       "      <td>2016-07-05</td>\n",
       "      <td>16:52</td>\n",
       "      <td>Business</td>\n",
       "      <td>Whitebridge</td>\n",
       "      <td>Whitebridge</td>\n",
       "      <td>0.6</td>\n",
       "      <td>Errand/Supplies</td>\n",
       "      <td>July</td>\n",
       "      <td>4.0</td>\n",
       "    </tr>\n",
       "    <tr>\n",
       "      <th>945</th>\n",
       "      <td>2016-11-12</td>\n",
       "      <td>13:46</td>\n",
       "      <td>2016-11-12</td>\n",
       "      <td>13:50</td>\n",
       "      <td>Business</td>\n",
       "      <td>Central</td>\n",
       "      <td>West Berkeley</td>\n",
       "      <td>0.6</td>\n",
       "      <td>Others</td>\n",
       "      <td>November</td>\n",
       "      <td>4.0</td>\n",
       "    </tr>\n",
       "  </tbody>\n",
       "</table>\n",
       "</div>"
      ],
      "text/plain": [
       "    Start_Date Start_Time   End_Date End_Time  Category Start_Location  \\\n",
       "44  2016-01-26      17:27 2016-01-26    17:29  Business           Cary   \n",
       "120 2016-02-17      16:38 2016-02-17    16:43  Business     Katunayaka   \n",
       "420 2016-06-08      17:16 2016-06-08    17:18  Business           Soho   \n",
       "516 2016-07-05      16:48 2016-07-05    16:52  Business    Whitebridge   \n",
       "945 2016-11-12      13:46 2016-11-12    13:50  Business        Central   \n",
       "\n",
       "     Stop_Location  Distance          Purpose     Month  Travelling_Time  \n",
       "44            Cary       0.5  Errand/Supplies   January              2.0  \n",
       "120     Katunayaka       0.5  Errand/Supplies  February              5.0  \n",
       "420        Tribeca       0.5  Errand/Supplies      June              2.0  \n",
       "516    Whitebridge       0.6  Errand/Supplies      July              4.0  \n",
       "945  West Berkeley       0.6           Others  November              4.0  "
      ]
     },
     "execution_count": 24,
     "metadata": {},
     "output_type": "execute_result"
    }
   ],
   "source": [
    "shortest_5 = df_dist.nsmallest(5, 'Distance')\n",
    "shortest_5"
   ]
  },
  {
   "cell_type": "code",
   "execution_count": 25,
   "id": "4be81ae1",
   "metadata": {
    "execution": {
     "iopub.execute_input": "2023-06-27T17:56:50.790460Z",
     "iopub.status.busy": "2023-06-27T17:56:50.790124Z",
     "iopub.status.idle": "2023-06-27T17:56:50.796768Z",
     "shell.execute_reply": "2023-06-27T17:56:50.796052Z"
    },
    "papermill": {
     "duration": 0.023865,
     "end_time": "2023-06-27T17:56:50.798208",
     "exception": false,
     "start_time": "2023-06-27T17:56:50.774343",
     "status": "completed"
    },
    "tags": []
   },
   "outputs": [
    {
     "data": {
      "text/plain": [
       "[('Cary', 'Cary'),\n",
       " ('Katunayaka', 'Katunayaka'),\n",
       " ('Soho', 'Tribeca'),\n",
       " ('Whitebridge', 'Whitebridge'),\n",
       " ('Central', 'West Berkeley')]"
      ]
     },
     "execution_count": 25,
     "metadata": {},
     "output_type": "execute_result"
    }
   ],
   "source": [
    "Start = shortest_5.Start_Location[:5].tolist()\n",
    "Stop = shortest_5.Stop_Location[:5].tolist()\n",
    "labels = list(zip(Start, Stop))\n",
    "labels"
   ]
  },
  {
   "cell_type": "code",
   "execution_count": 26,
   "id": "af870717",
   "metadata": {
    "execution": {
     "iopub.execute_input": "2023-06-27T17:56:50.828746Z",
     "iopub.status.busy": "2023-06-27T17:56:50.827747Z",
     "iopub.status.idle": "2023-06-27T17:56:50.961301Z",
     "shell.execute_reply": "2023-06-27T17:56:50.960589Z"
    },
    "papermill": {
     "duration": 0.150755,
     "end_time": "2023-06-27T17:56:50.963414",
     "exception": false,
     "start_time": "2023-06-27T17:56:50.812659",
     "status": "completed"
    },
    "tags": []
   },
   "outputs": [
    {
     "data": {
      "text/plain": [
       "Text(0.5, 1.0, 'Top 5 Shortest Distances')"
      ]
     },
     "execution_count": 26,
     "metadata": {},
     "output_type": "execute_result"
    },
    {
     "data": {
      "image/png": "[encoded data removed]",
      "text/plain": [
       "<Figure size 640x480 with 1 Axes>"
      ]
     },
     "metadata": {},
     "output_type": "display_data"
    }
   ],
   "source": [
    "distances = df_dist.Distance.round().unique().tolist()\n",
    "distances.sort(reverse=True)\n",
    "plt.pie(distances[:5], labels=labels, autopct='%1.1f%%');\n",
    "plt.title(\"Top 5 Shortest Distances\")"
   ]
  },
  {
   "cell_type": "markdown",
   "id": "9134f0f3",
   "metadata": {
    "papermill": {
     "duration": 0.019905,
     "end_time": "2023-06-27T17:56:51.003551",
     "exception": false,
     "start_time": "2023-06-27T17:56:50.983646",
     "status": "completed"
    },
    "tags": []
   },
   "source": [
    "#### Insights:\n",
    "- We can see from the above pie chart that **Cary i.e in the same town** has minimum distance among all of the minimum distances followed by **Katunayaka** & **('Soho to Tribeca)**."
   ]
  },
  {
   "cell_type": "markdown",
   "id": "c352827a",
   "metadata": {
    "papermill": {
     "duration": 0.015594,
     "end_time": "2023-06-27T17:56:51.039150",
     "exception": false,
     "start_time": "2023-06-27T17:56:51.023556",
     "status": "completed"
    },
    "tags": []
   },
   "source": [
    "### **Analysis of Different Visited Places**"
   ]
  },
  {
   "cell_type": "code",
   "execution_count": 27,
   "id": "8fc66bd4",
   "metadata": {
    "execution": {
     "iopub.execute_input": "2023-06-27T17:56:51.070880Z",
     "iopub.status.busy": "2023-06-27T17:56:51.070062Z",
     "iopub.status.idle": "2023-06-27T17:56:52.571228Z",
     "shell.execute_reply": "2023-06-27T17:56:52.569432Z"
    },
    "papermill": {
     "duration": 1.51928,
     "end_time": "2023-06-27T17:56:52.573382",
     "exception": false,
     "start_time": "2023-06-27T17:56:51.054102",
     "status": "completed"
    },
    "tags": []
   },
   "outputs": [
    {
     "data": {
      "image/png": "[encoded data removed]",
      "text/plain": [
       "<Figure size 640x480 with 1 Axes>"
      ]
     },
     "metadata": {},
     "output_type": "display_data"
    },
    {
     "data": {
      "image/png": "[encoded data removed]",
      "text/plain": [
       "<Figure size 640x480 with 1 Axes>"
      ]
     },
     "metadata": {},
     "output_type": "display_data"
    },
    {
     "data": {
      "image/png": "[encoded data removed]",
      "text/plain": [
       "<Figure size 640x480 with 1 Axes>"
      ]
     },
     "metadata": {},
     "output_type": "display_data"
    },
    {
     "data": {
      "image/png": "[encoded data removed]",
      "text/plain": [
       "<Figure size 640x480 with 1 Axes>"
      ]
     },
     "metadata": {},
     "output_type": "display_data"
    },
    {
     "data": {
      "image/png": "[encoded data removed]",
      "text/plain": [
       "<Figure size 640x480 with 1 Axes>"
      ]
     },
     "metadata": {},
     "output_type": "display_data"
    },
    {
     "data": {
      "image/png": "[encoded data removed]",
      "text/plain": [
       "<Figure size 640x480 with 1 Axes>"
      ]
     },
     "metadata": {},
     "output_type": "display_data"
    },
    {
     "data": {
      "image/png": "[encoded data removed]",
      "text/plain": [
       "<Figure size 640x480 with 1 Axes>"
      ]
     },
     "metadata": {},
     "output_type": "display_data"
    },
    {
     "data": {
      "image/png": "[encoded data removed]",
      "text/plain": [
       "<Figure size 640x480 with 1 Axes>"
      ]
     },
     "metadata": {},
     "output_type": "display_data"
    }
   ],
   "source": [
    "Purposes = df.Purpose.unique().tolist()\n",
    "Purposes = [x for x in Purposes if x not in ['Charity ($)', 'Moving', 'Commute']]\n",
    "\n",
    "for purpose in range(len(Purposes)):\n",
    "    locationData = df[df[\"Purpose\"] == Purposes[purpose]]\n",
    "    locationData = locationData.groupby('Stop_Location')['Category'].value_counts().unstack()\n",
    "    locationData = locationData.sort_values(by='Business', ascending=False).head(5)\n",
    "    locationData.plot(kind='barh')\n",
    "    plt.xlabel(\"Frequency\")\n",
    "    plt.title(f\"Top Most Visited Places for {Purposes[purpose]}\")\n",
    "    plt.show()"
   ]
  },
  {
   "cell_type": "markdown",
   "id": "e0857681",
   "metadata": {
    "papermill": {
     "duration": 0.017785,
     "end_time": "2023-06-27T17:56:52.609532",
     "exception": false,
     "start_time": "2023-06-27T17:56:52.591747",
     "status": "completed"
    },
    "tags": []
   },
   "source": [
    "**Valuable Insights :**\n",
    "- For **Meal/Entertain** the most visited place was **Cary** followed by **Morrisville** & **WhiteBridge**\n",
    "- Similarly for different **Errand/Supplies**, the most visited place was **Cary** followed by **Whitebridge** & **Karchi** \n",
    "- For **Meeting**, **Customer visit**, **Between Officess**, **Cary** was the most visited place.\n",
    "- **Airport** was present in an Karchi."
   ]
  },
  {
   "cell_type": "markdown",
   "id": "796e08d3",
   "metadata": {
    "papermill": {
     "duration": 0.017619,
     "end_time": "2023-06-27T17:56:52.644908",
     "exception": false,
     "start_time": "2023-06-27T17:56:52.627289",
     "status": "completed"
    },
    "tags": []
   },
   "source": [
    "### **Visualising number of Travels for different Purposes**\n",
    "\n",
    "\n",
    "\n"
   ]
  },
  {
   "cell_type": "code",
   "execution_count": 28,
   "id": "78017350",
   "metadata": {
    "execution": {
     "iopub.execute_input": "2023-06-27T17:56:52.681509Z",
     "iopub.status.busy": "2023-06-27T17:56:52.681190Z",
     "iopub.status.idle": "2023-06-27T17:56:52.903852Z",
     "shell.execute_reply": "2023-06-27T17:56:52.902636Z"
    },
    "papermill": {
     "duration": 0.243892,
     "end_time": "2023-06-27T17:56:52.906244",
     "exception": false,
     "start_time": "2023-06-27T17:56:52.662352",
     "status": "completed"
    },
    "tags": []
   },
   "outputs": [
    {
     "data": {
      "image/png": "[encoded data removed]",
      "text/plain": [
       "<Figure size 1000x1000 with 2 Axes>"
      ]
     },
     "metadata": {},
     "output_type": "display_data"
    }
   ],
   "source": [
    "meets = len(df[df.Purpose == 'Meeting'].value_counts())\n",
    "meal = len(df[df.Purpose == 'Meal/Entertain'].value_counts())\n",
    "airport = len(df[df.Purpose == 'Airport/Travel'].value_counts())\n",
    "offices = len(df[df.Purpose == 'Between Offices'].value_counts())\n",
    "temp_site = len(df[df.Purpose == 'Temporary Site'].value_counts())\n",
    "cust_visit = len(df[df.Purpose == 'Customer Visit'].value_counts())\n",
    "errand = len(df[df.Purpose == 'Errand/Supplies'].value_counts())\n",
    "\n",
    "purposes = {'Meetings' : meets, 'Meal/Entertain': meal, 'Airport/Travel': airport,'Between Offices': offices,'Temporary Site': temp_site,'Customer Visit': cust_visit,'Errand/Supplies': errand}\n",
    "\n",
    "fig = plt.figure(1, figsize=(10,10))\n",
    "ax = fig.add_subplot(221) \n",
    "ax.set_title('Travels for different purposes')\n",
    "ax.axis(\"equal\")\n",
    "pie = ax.pie(purposes.values(), startangle=0, autopct='%1.1f%%')\n",
    "ax2 = fig.add_subplot(222)\n",
    "ax2.axis(\"off\") \n",
    "ax2.legend(pie[0],purposes.keys(), loc=\"center\")\n",
    "plt.show()"
   ]
  },
  {
   "cell_type": "markdown",
   "id": "c36c330c",
   "metadata": {
    "papermill": {
     "duration": 0.024496,
     "end_time": "2023-06-27T17:56:52.955769",
     "exception": false,
     "start_time": "2023-06-27T17:56:52.931273",
     "status": "completed"
    },
    "tags": []
   },
   "source": [
    "**INSIGHTS :**\n",
    "- This gives us the idea that among all the travels by Uber in 2016, most of them are for Meetings\n",
    "- The next most frequent travels are for Meal/Entertain and Errand/Supplies respecrtively.\n",
    "\n",
    "**As of now we have only 2 numerical values, i.e Distance and Time-Travelled.**\n",
    "\n",
    "### **Let's see the Correlations for the same.**"
   ]
  },
  {
   "cell_type": "code",
   "execution_count": 29,
   "id": "3394fadd",
   "metadata": {
    "execution": {
     "iopub.execute_input": "2023-06-27T17:56:52.994991Z",
     "iopub.status.busy": "2023-06-27T17:56:52.994653Z",
     "iopub.status.idle": "2023-06-27T17:56:53.005406Z",
     "shell.execute_reply": "2023-06-27T17:56:53.004291Z"
    },
    "papermill": {
     "duration": 0.031709,
     "end_time": "2023-06-27T17:56:53.007099",
     "exception": false,
     "start_time": "2023-06-27T17:56:52.975390",
     "status": "completed"
    },
    "tags": []
   },
   "outputs": [
    {
     "data": {
      "text/html": [
       "<div>\n",
       "<style scoped>\n",
       "    .dataframe tbody tr th:only-of-type {\n",
       "        vertical-align: middle;\n",
       "    }\n",
       "\n",
       "    .dataframe tbody tr th {\n",
       "        vertical-align: top;\n",
       "    }\n",
       "\n",
       "    .dataframe thead th {\n",
       "        text-align: right;\n",
       "    }\n",
       "</style>\n",
       "<table border=\"1\" class=\"dataframe\">\n",
       "  <thead>\n",
       "    <tr style=\"text-align: right;\">\n",
       "      <th></th>\n",
       "      <th>Distance</th>\n",
       "      <th>Travelling_Time</th>\n",
       "    </tr>\n",
       "  </thead>\n",
       "  <tbody>\n",
       "    <tr>\n",
       "      <th>Distance</th>\n",
       "      <td>1.000000</td>\n",
       "      <td>0.842262</td>\n",
       "    </tr>\n",
       "    <tr>\n",
       "      <th>Travelling_Time</th>\n",
       "      <td>0.842262</td>\n",
       "      <td>1.000000</td>\n",
       "    </tr>\n",
       "  </tbody>\n",
       "</table>\n",
       "</div>"
      ],
      "text/plain": [
       "                 Distance  Travelling_Time\n",
       "Distance         1.000000         0.842262\n",
       "Travelling_Time  0.842262         1.000000"
      ]
     },
     "execution_count": 29,
     "metadata": {},
     "output_type": "execute_result"
    }
   ],
   "source": [
    "corr = df.corr(numeric_only=True)\n",
    "corr"
   ]
  },
  {
   "cell_type": "markdown",
   "id": "e18f7309",
   "metadata": {
    "papermill": {
     "duration": 0.017895,
     "end_time": "2023-06-27T17:56:53.043608",
     "exception": false,
     "start_time": "2023-06-27T17:56:53.025713",
     "status": "completed"
    },
    "tags": []
   },
   "source": [
    "Plotting the `heatmap()`"
   ]
  },
  {
   "cell_type": "code",
   "execution_count": 30,
   "id": "89c33eef",
   "metadata": {
    "execution": {
     "iopub.execute_input": "2023-06-27T17:56:53.081921Z",
     "iopub.status.busy": "2023-06-27T17:56:53.081606Z",
     "iopub.status.idle": "2023-06-27T17:56:53.446889Z",
     "shell.execute_reply": "2023-06-27T17:56:53.445428Z"
    },
    "papermill": {
     "duration": 0.38711,
     "end_time": "2023-06-27T17:56:53.449044",
     "exception": false,
     "start_time": "2023-06-27T17:56:53.061934",
     "status": "completed"
    },
    "tags": []
   },
   "outputs": [
    {
     "data": {
      "text/plain": [
       "<Axes: >"
      ]
     },
     "execution_count": 30,
     "metadata": {},
     "output_type": "execute_result"
    },
    {
     "data": {
      "image/png": "[encoded data removed]",
      "text/plain": [
       "<Figure size 640x480 with 2 Axes>"
      ]
     },
     "metadata": {},
     "output_type": "display_data"
    }
   ],
   "source": [
    "sns.heatmap(corr, annot=True,)"
   ]
  },
  {
   "cell_type": "markdown",
   "id": "4e5e5405",
   "metadata": {
    "papermill": {
     "duration": 0.018341,
     "end_time": "2023-06-27T17:56:53.487817",
     "exception": false,
     "start_time": "2023-06-27T17:56:53.469476",
     "status": "completed"
    },
    "tags": []
   },
   "source": [
    "#### Similarly we can also plot the pairwise plot of the numeric values, i.e Travelling_Time & Distance"
   ]
  },
  {
   "cell_type": "code",
   "execution_count": 31,
   "id": "074d26b5",
   "metadata": {
    "execution": {
     "iopub.execute_input": "2023-06-27T17:56:53.526082Z",
     "iopub.status.busy": "2023-06-27T17:56:53.525766Z",
     "iopub.status.idle": "2023-06-27T17:56:54.907413Z",
     "shell.execute_reply": "2023-06-27T17:56:54.906276Z"
    },
    "papermill": {
     "duration": 1.403574,
     "end_time": "2023-06-27T17:56:54.909834",
     "exception": false,
     "start_time": "2023-06-27T17:56:53.506260",
     "status": "completed"
    },
    "tags": []
   },
   "outputs": [
    {
     "data": {
      "text/plain": [
       "<seaborn.axisgrid.PairGrid at 0x7c779ecc0d90>"
      ]
     },
     "execution_count": 31,
     "metadata": {},
     "output_type": "execute_result"
    },
    {
     "data": {
      "image/png": "[encoded data removed]",
      "text/plain": [
       "<Figure size 500x500 with 6 Axes>"
      ]
     },
     "metadata": {},
     "output_type": "display_data"
    }
   ],
   "source": [
    "sns.pairplot(df)"
   ]
  },
  {
   "cell_type": "markdown",
   "id": "cfd42085",
   "metadata": {
    "papermill": {
     "duration": 0.019296,
     "end_time": "2023-06-27T17:56:54.949148",
     "exception": false,
     "start_time": "2023-06-27T17:56:54.929852",
     "status": "completed"
    },
    "tags": []
   },
   "source": [
    "# Thank You\n",
    "### Show some love with an Upvote :)"
   ]
  }
 ],
 "metadata": {
  "kernelspec": {
   "display_name": "Python 3",
   "language": "python",
   "name": "python3"
  },
  "language_info": {
   "codemirror_mode": {
    "name": "ipython",
    "version": 3
   },
   "file_extension": ".py",
   "mimetype": "text/x-python",
   "name": "python",
   "nbconvert_exporter": "python",
   "pygments_lexer": "ipython3",
   "version": "3.10.10"
  },
  "papermill": {
   "default_parameters": {},
   "duration": 17.499493,
   "end_time": "2023-06-27T17:56:55.788068",
   "environment_variables": {},
   "exception": null,
   "input_path": "__notebook__.ipynb",
   "output_path": "__notebook__.ipynb",
   "parameters": {},
   "start_time": "2023-06-27T17:56:38.288575",
   "version": "2.4.0"
  }
 },
 "nbformat": 4,
 "nbformat_minor": 5
}
